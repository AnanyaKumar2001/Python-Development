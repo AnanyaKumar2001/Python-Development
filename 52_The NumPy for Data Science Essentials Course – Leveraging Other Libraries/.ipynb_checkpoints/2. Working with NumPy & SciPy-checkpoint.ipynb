{
 "cells": [
  {
   "cell_type": "code",
   "execution_count": 1,
   "id": "a00d01be",
   "metadata": {},
   "outputs": [],
   "source": [
    "from scipy.interpolate import interp1d\n",
    "import numpy as np\n",
    "import matplotlib.pyplot as plt"
   ]
  },
  {
   "cell_type": "code",
   "execution_count": 2,
   "id": "9156c90d",
   "metadata": {},
   "outputs": [],
   "source": [
    "ages = np.genfromtxt('data/Ages.csv', delimiter=\",\", skip_header=1)"
   ]
  },
  {
   "cell_type": "code",
   "execution_count": 3,
   "id": "eeac0e4f",
   "metadata": {},
   "outputs": [
    {
     "data": {
      "text/plain": [
       "array([[1890. ,   26.1,   22. ],\n",
       "       [1900. ,   25.9,   21.9],\n",
       "       [1910. ,   25.1,   21.6],\n",
       "       [1920. ,   24.6,   21.2],\n",
       "       [1930. ,   24.3,   21.3],\n",
       "       [1940. ,   24.3,   21.5],\n",
       "       [1950. ,   22.8,   20.3],\n",
       "       [1960. ,   22.8,   20.3],\n",
       "       [1970. ,   23.2,   20.8],\n",
       "       [1980. ,   24.7,   22. ],\n",
       "       [1990. ,   26.1,   23.9],\n",
       "       [2000. ,   26.8,   25.1]])"
      ]
     },
     "execution_count": 3,
     "metadata": {},
     "output_type": "execute_result"
    }
   ],
   "source": [
    "ages"
   ]
  },
  {
   "cell_type": "code",
   "execution_count": 4,
   "id": "326c6b9c",
   "metadata": {},
   "outputs": [
    {
     "data": {
      "text/plain": [
       "array([1890., 1900., 1910., 1920., 1930., 1940., 1950., 1960., 1970.,\n",
       "       1980., 1990., 2000.])"
      ]
     },
     "execution_count": 4,
     "metadata": {},
     "output_type": "execute_result"
    }
   ],
   "source": [
    "x = ages[:, 0]\n",
    "x"
   ]
  },
  {
   "cell_type": "code",
   "execution_count": 6,
   "id": "005501d3",
   "metadata": {},
   "outputs": [
    {
     "data": {
      "text/plain": [
       "array([26.1, 25.9, 25.1, 24.6, 24.3, 24.3, 22.8, 22.8, 23.2, 24.7, 26.1,\n",
       "       26.8])"
      ]
     },
     "execution_count": 6,
     "metadata": {},
     "output_type": "execute_result"
    }
   ],
   "source": [
    "y = ages[:, 1]\n",
    "y"
   ]
  },
  {
   "cell_type": "code",
   "execution_count": 7,
   "id": "be59fc0c",
   "metadata": {},
   "outputs": [
    {
     "data": {
      "text/plain": [
       "numpy.ndarray"
      ]
     },
     "execution_count": 7,
     "metadata": {},
     "output_type": "execute_result"
    }
   ],
   "source": [
    "type(x)"
   ]
  },
  {
   "cell_type": "code",
   "execution_count": 8,
   "id": "3c4d1335",
   "metadata": {},
   "outputs": [
    {
     "data": {
      "text/plain": [
       "numpy.ndarray"
      ]
     },
     "execution_count": 8,
     "metadata": {},
     "output_type": "execute_result"
    }
   ],
   "source": [
    "type(y)"
   ]
  },
  {
   "cell_type": "code",
   "execution_count": 9,
   "id": "4bdfc444",
   "metadata": {},
   "outputs": [],
   "source": [
    "f = interp1d(x, y)"
   ]
  },
  {
   "cell_type": "code",
   "execution_count": 10,
   "id": "e43ec74b",
   "metadata": {},
   "outputs": [],
   "source": [
    "xnew = [1896, 1907, 1912, 1923, 1929, 1933, 1939, 1945, 1947, 1953, 1969, 1989, 1992, 1996, 1998]"
   ]
  },
  {
   "cell_type": "code",
   "execution_count": 11,
   "id": "10f5ce8f",
   "metadata": {},
   "outputs": [],
   "source": [
    "ynew = f(xnew)"
   ]
  },
  {
   "cell_type": "code",
   "execution_count": 12,
   "id": "d946f73d",
   "metadata": {},
   "outputs": [
    {
     "data": {
      "text/plain": [
       "array([25.98, 25.34, 25.  , 24.51, 24.33, 24.3 , 24.3 , 23.55, 23.25,\n",
       "       22.8 , 23.16, 25.96, 26.24, 26.52, 26.66])"
      ]
     },
     "execution_count": 12,
     "metadata": {},
     "output_type": "execute_result"
    }
   ],
   "source": [
    "ynew"
   ]
  },
  {
   "cell_type": "code",
   "execution_count": 13,
   "id": "7b422c5b",
   "metadata": {},
   "outputs": [
    {
     "data": {
      "image/png": "[encoded data removed]",
      "text/plain": [
       "<Figure size 432x288 with 1 Axes>"
      ]
     },
     "metadata": {
      "needs_background": "light"
     },
     "output_type": "display_data"
    }
   ],
   "source": [
    "plt.plot(x, y, \"-\", xnew, ynew, \"o\")\n",
    "plt.show()"
   ]
  },
  {
   "cell_type": "code",
   "execution_count": 14,
   "id": "c018d2fe",
   "metadata": {},
   "outputs": [],
   "source": [
    "z = ages[:, 2]"
   ]
  },
  {
   "cell_type": "code",
   "execution_count": 15,
   "id": "3918a9a8",
   "metadata": {},
   "outputs": [],
   "source": [
    "f2 = interp1d(x, z)"
   ]
  },
  {
   "cell_type": "code",
   "execution_count": 16,
   "id": "9b7d5401",
   "metadata": {},
   "outputs": [],
   "source": [
    "znew = f2(xnew)"
   ]
  },
  {
   "cell_type": "code",
   "execution_count": 17,
   "id": "6b608292",
   "metadata": {},
   "outputs": [
    {
     "data": {
      "text/plain": [
       "array([21.94, 21.69, 21.52, 21.23, 21.29, 21.36, 21.48, 20.9 , 20.66,\n",
       "       20.3 , 20.75, 23.71, 24.14, 24.62, 24.86])"
      ]
     },
     "execution_count": 17,
     "metadata": {},
     "output_type": "execute_result"
    }
   ],
   "source": [
    "znew"
   ]
  },
  {
   "cell_type": "code",
   "execution_count": 18,
   "id": "835d7e0e",
   "metadata": {},
   "outputs": [
    {
     "data": {
      "image/png": "[encoded data removed]",
      "text/plain": [
       "<Figure size 432x288 with 1 Axes>"
      ]
     },
     "metadata": {
      "needs_background": "light"
     },
     "output_type": "display_data"
    }
   ],
   "source": [
    "plt.plot(x, z, \"-\", xnew, znew, \"o\")\n",
    "plt.show()"
   ]
  },
  {
   "cell_type": "code",
   "execution_count": null,
   "id": "af7f5b09",
   "metadata": {},
   "outputs": [],
   "source": []
  }
 ],
 "metadata": {
  "kernelspec": {
   "display_name": "Python 3",
   "language": "python",
   "name": "python3"
  },
  "language_info": {
   "codemirror_mode": {
    "name": "ipython",
    "version": 3
   },
   "file_extension": ".py",
   "mimetype": "text/x-python",
   "name": "python",
   "nbconvert_exporter": "python",
   "pygments_lexer": "ipython3",
   "version": "3.8.8"
  }
 },
 "nbformat": 4,
 "nbformat_minor": 5
}
