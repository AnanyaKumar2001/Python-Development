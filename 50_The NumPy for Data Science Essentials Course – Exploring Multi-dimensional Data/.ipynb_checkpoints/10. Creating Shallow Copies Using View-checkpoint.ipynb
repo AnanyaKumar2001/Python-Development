{
 "cells": [
  {
   "cell_type": "code",
   "execution_count": 1,
   "id": "a259b369",
   "metadata": {},
   "outputs": [],
   "source": [
    "import numpy as np"
   ]
  },
  {
   "cell_type": "code",
   "execution_count": 2,
   "id": "3045c0a6",
   "metadata": {},
   "outputs": [],
   "source": [
    "fruits = np.array([\"Orange\", \"Peach\", \"Cherry\", \"Strawberry\"])"
   ]
  },
  {
   "cell_type": "code",
   "execution_count": 3,
   "id": "05f5431d",
   "metadata": {},
   "outputs": [],
   "source": [
    "basket_1 = fruits.view()\n",
    "basket_2 = fruits.view()"
   ]
  },
  {
   "cell_type": "code",
   "execution_count": 5,
   "id": "821fdf83",
   "metadata": {},
   "outputs": [
    {
     "name": "stdout",
     "output_type": "stream",
     "text": [
      "['Orange' 'Peach' 'Cherry' 'Strawberry']\n",
      "['Orange' 'Peach' 'Cherry' 'Strawberry']\n"
     ]
    }
   ],
   "source": [
    "print(basket_1)\n",
    "print(basket_2)"
   ]
  },
  {
   "cell_type": "code",
   "execution_count": 6,
   "id": "c1be5f2d",
   "metadata": {},
   "outputs": [
    {
     "name": "stdout",
     "output_type": "stream",
     "text": [
      "Original Fruits Array: 2953835628560\n",
      "Shallow Copy Basket 1: 2953835628656\n",
      "Shallow Copy Basket 2: 2953835628176\n"
     ]
    }
   ],
   "source": [
    "print(\"Original Fruits Array:\", id(fruits))\n",
    "print(\"Shallow Copy Basket 1:\", id(basket_1))\n",
    "print(\"Shallow Copy Basket 2:\", id(basket_2))"
   ]
  },
  {
   "cell_type": "code",
   "execution_count": 7,
   "id": "345d1b7e",
   "metadata": {},
   "outputs": [
    {
     "data": {
      "text/plain": [
       "False"
      ]
     },
     "execution_count": 7,
     "metadata": {},
     "output_type": "execute_result"
    }
   ],
   "source": [
    "basket_1 is fruits"
   ]
  },
  {
   "cell_type": "code",
   "execution_count": 8,
   "id": "60ff5ecc",
   "metadata": {},
   "outputs": [
    {
     "data": {
      "text/plain": [
       "False"
      ]
     },
     "execution_count": 8,
     "metadata": {},
     "output_type": "execute_result"
    }
   ],
   "source": [
    "basket_2 is fruits"
   ]
  },
  {
   "cell_type": "code",
   "execution_count": 9,
   "id": "b280ec95",
   "metadata": {},
   "outputs": [
    {
     "data": {
      "text/plain": [
       "True"
      ]
     },
     "execution_count": 9,
     "metadata": {},
     "output_type": "execute_result"
    }
   ],
   "source": [
    "basket_1.base is fruits"
   ]
  },
  {
   "cell_type": "code",
   "execution_count": 11,
   "id": "725c6f97",
   "metadata": {},
   "outputs": [
    {
     "data": {
      "text/plain": [
       "True"
      ]
     },
     "execution_count": 11,
     "metadata": {},
     "output_type": "execute_result"
    }
   ],
   "source": [
    "basket_2.base is fruits"
   ]
  },
  {
   "cell_type": "code",
   "execution_count": 12,
   "id": "f9015f09",
   "metadata": {},
   "outputs": [],
   "source": [
    "basket_2[0] = \"Lemon\""
   ]
  },
  {
   "cell_type": "code",
   "execution_count": 13,
   "id": "f7a1eb10",
   "metadata": {},
   "outputs": [
    {
     "data": {
      "text/plain": [
       "array(['Lemon', 'Peach', 'Cherry', 'Strawberry'], dtype='<U10')"
      ]
     },
     "execution_count": 13,
     "metadata": {},
     "output_type": "execute_result"
    }
   ],
   "source": [
    "basket_2"
   ]
  },
  {
   "cell_type": "code",
   "execution_count": 14,
   "id": "07bd9d68",
   "metadata": {},
   "outputs": [
    {
     "data": {
      "text/plain": [
       "array(['Lemon', 'Peach', 'Cherry', 'Strawberry'], dtype='<U10')"
      ]
     },
     "execution_count": 14,
     "metadata": {},
     "output_type": "execute_result"
    }
   ],
   "source": [
    "fruits"
   ]
  },
  {
   "cell_type": "code",
   "execution_count": 15,
   "id": "dedef50d",
   "metadata": {},
   "outputs": [
    {
     "data": {
      "text/plain": [
       "array(['Lemon', 'Peach', 'Cherry', 'Strawberry'], dtype='<U10')"
      ]
     },
     "execution_count": 15,
     "metadata": {},
     "output_type": "execute_result"
    }
   ],
   "source": [
    "basket_1"
   ]
  },
  {
   "cell_type": "code",
   "execution_count": 16,
   "id": "0644e826",
   "metadata": {},
   "outputs": [],
   "source": [
    "basket_1 = np.array([\"Apricot\", \"Blueberries\", \"Kiwi\", \"Watermelon\"])"
   ]
  },
  {
   "cell_type": "code",
   "execution_count": 21,
   "id": "bea47813",
   "metadata": {},
   "outputs": [
    {
     "name": "stdout",
     "output_type": "stream",
     "text": [
      "['Apricot' 'Blueberries' 'Kiwi' 'Watermelon']\n",
      "2953836376496\n"
     ]
    }
   ],
   "source": [
    "print(basket_1)\n",
    "print(id(basket_1))"
   ]
  },
  {
   "cell_type": "code",
   "execution_count": 18,
   "id": "4da0a306",
   "metadata": {},
   "outputs": [
    {
     "data": {
      "text/plain": [
       "array(['Lemon', 'Peach', 'Cherry', 'Strawberry'], dtype='<U10')"
      ]
     },
     "execution_count": 18,
     "metadata": {},
     "output_type": "execute_result"
    }
   ],
   "source": [
    "basket_2"
   ]
  },
  {
   "cell_type": "code",
   "execution_count": 19,
   "id": "6beeb179",
   "metadata": {},
   "outputs": [
    {
     "data": {
      "text/plain": [
       "array(['Lemon', 'Peach', 'Cherry', 'Strawberry'], dtype='<U10')"
      ]
     },
     "execution_count": 19,
     "metadata": {},
     "output_type": "execute_result"
    }
   ],
   "source": [
    "fruits"
   ]
  },
  {
   "cell_type": "code",
   "execution_count": 23,
   "id": "316df6a2",
   "metadata": {},
   "outputs": [],
   "source": [
    "basket_2.shape = 2, 2"
   ]
  },
  {
   "cell_type": "code",
   "execution_count": 24,
   "id": "c8619117",
   "metadata": {},
   "outputs": [
    {
     "data": {
      "text/plain": [
       "array([['Lemon', 'Peach'],\n",
       "       ['Cherry', 'Strawberry']], dtype='<U10')"
      ]
     },
     "execution_count": 24,
     "metadata": {},
     "output_type": "execute_result"
    }
   ],
   "source": [
    "basket_2"
   ]
  },
  {
   "cell_type": "code",
   "execution_count": 25,
   "id": "b102cc46",
   "metadata": {},
   "outputs": [
    {
     "data": {
      "text/plain": [
       "array(['Lemon', 'Peach', 'Cherry', 'Strawberry'], dtype='<U10')"
      ]
     },
     "execution_count": 25,
     "metadata": {},
     "output_type": "execute_result"
    }
   ],
   "source": [
    "fruits"
   ]
  },
  {
   "cell_type": "code",
   "execution_count": null,
   "id": "b3393db4",
   "metadata": {},
   "outputs": [],
   "source": []
  }
 ],
 "metadata": {
  "kernelspec": {
   "display_name": "Python 3",
   "language": "python",
   "name": "python3"
  },
  "language_info": {
   "codemirror_mode": {
    "name": "ipython",
    "version": 3
   },
   "file_extension": ".py",
   "mimetype": "text/x-python",
   "name": "python",
   "nbconvert_exporter": "python",
   "pygments_lexer": "ipython3",
   "version": "3.8.8"
  }
 },
 "nbformat": 4,
 "nbformat_minor": 5
}
