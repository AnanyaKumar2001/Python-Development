{
 "cells": [
  {
   "cell_type": "code",
   "execution_count": 1,
   "id": "bfdb0774",
   "metadata": {},
   "outputs": [],
   "source": [
    "import numpy as np"
   ]
  },
  {
   "cell_type": "code",
   "execution_count": 5,
   "id": "30782fca",
   "metadata": {},
   "outputs": [],
   "source": [
    "angles = np.array([0, 30, 45, 60, 90])"
   ]
  },
  {
   "cell_type": "code",
   "execution_count": 6,
   "id": "8b07fc6f",
   "metadata": {},
   "outputs": [],
   "source": [
    "# -*-*-*-*-*-*-*-*-*-*-*-*-*-*-* Applying Mathematical Functions on Arrays ----------------------------"
   ]
  },
  {
   "cell_type": "code",
   "execution_count": 8,
   "id": "c45e5d46",
   "metadata": {},
   "outputs": [
    {
     "data": {
      "text/plain": [
       "array([0.        , 0.52359878, 0.78539816, 1.04719755, 1.57079633])"
      ]
     },
     "execution_count": 8,
     "metadata": {},
     "output_type": "execute_result"
    }
   ],
   "source": [
    "angle_radians = angles * np.pi/180\n",
    "angle_radians"
   ]
  },
  {
   "cell_type": "code",
   "execution_count": 10,
   "id": "64bfb8a9",
   "metadata": {},
   "outputs": [
    {
     "name": "stdout",
     "output_type": "stream",
     "text": [
      "Sin:  [0.         0.5        0.70710678 0.8660254  1.        ]\n"
     ]
    }
   ],
   "source": [
    "print(\"Sin: \", np.sin(angle_radians))"
   ]
  },
  {
   "cell_type": "code",
   "execution_count": 13,
   "id": "980b475a",
   "metadata": {},
   "outputs": [
    {
     "data": {
      "text/plain": [
       "array([0.        , 0.52359878, 0.78539816, 1.04719755, 1.57079633])"
      ]
     },
     "execution_count": 13,
     "metadata": {},
     "output_type": "execute_result"
    }
   ],
   "source": [
    "angles_radians = np.radians(angles)\n",
    "angles_radians"
   ]
  },
  {
   "cell_type": "code",
   "execution_count": 14,
   "id": "52fd7a44",
   "metadata": {},
   "outputs": [
    {
     "name": "stdout",
     "output_type": "stream",
     "text": [
      "Cosin:  [1.00000000e+00 8.66025404e-01 7.07106781e-01 5.00000000e-01\n",
      " 6.12323400e-17]\n"
     ]
    }
   ],
   "source": [
    "print(\"Cosin: \", np.cos(angles_radians))"
   ]
  },
  {
   "cell_type": "code",
   "execution_count": 15,
   "id": "aa168154",
   "metadata": {},
   "outputs": [
    {
     "name": "stdout",
     "output_type": "stream",
     "text": [
      "Tangent:  [0.00000000e+00 5.77350269e-01 1.00000000e+00 1.73205081e+00\n",
      " 1.63312394e+16]\n"
     ]
    }
   ],
   "source": [
    "print(\"Tangent: \", np.tan(angles_radians))"
   ]
  },
  {
   "cell_type": "code",
   "execution_count": 16,
   "id": "3ba51a1a",
   "metadata": {},
   "outputs": [
    {
     "name": "stdout",
     "output_type": "stream",
     "text": [
      "[0.         0.52359878 0.78539816 1.04719755 1.57079633]\n"
     ]
    }
   ],
   "source": [
    "sin = np.sin(angles * np.pi/180)\n",
    "inv = np.arcsin(sin)\n",
    "print(inv)"
   ]
  },
  {
   "cell_type": "code",
   "execution_count": 17,
   "id": "dad2332e",
   "metadata": {},
   "outputs": [
    {
     "name": "stdout",
     "output_type": "stream",
     "text": [
      "[ 0. 30. 45. 60. 90.]\n"
     ]
    }
   ],
   "source": [
    "print(np.degrees(inv))"
   ]
  },
  {
   "cell_type": "code",
   "execution_count": 18,
   "id": "18cda496",
   "metadata": {},
   "outputs": [],
   "source": [
    "# -*-*-*-*-*-*-*-*-*-*-*-*-*-*-* Applyting Statistical Functions on Arrays ----------------------------"
   ]
  },
  {
   "cell_type": "code",
   "execution_count": 19,
   "id": "0135805b",
   "metadata": {},
   "outputs": [],
   "source": [
    "test_scores = np.array([32.32, 56.98, 21.52, 44.32, 55.63, 13.75, 43.47, 43.34])"
   ]
  },
  {
   "cell_type": "code",
   "execution_count": 20,
   "id": "bd7f7c2a",
   "metadata": {},
   "outputs": [
    {
     "name": "stdout",
     "output_type": "stream",
     "text": [
      "Mean Test Scores:  38.91625\n"
     ]
    }
   ],
   "source": [
    "print(\"Mean Test Score: \", np.mean(test_scores))"
   ]
  },
  {
   "cell_type": "code",
   "execution_count": 21,
   "id": "9544406d",
   "metadata": {},
   "outputs": [
    {
     "name": "stdout",
     "output_type": "stream",
     "text": [
      "Median Test Score:  43.405\n"
     ]
    }
   ],
   "source": [
    "print(\"Median Test Score: \", np.median(test_scores))"
   ]
  },
  {
   "cell_type": "code",
   "execution_count": 22,
   "id": "1e6112b9",
   "metadata": {},
   "outputs": [],
   "source": [
    "# -*-*-*-*-*-*-*-*-*-*-*-*-*-*-* Loading Data From External Files using NumPy ----------------------------"
   ]
  },
  {
   "cell_type": "code",
   "execution_count": 23,
   "id": "fe8cc206",
   "metadata": {},
   "outputs": [
    {
     "data": {
      "text/plain": [
       "array([60000., 58000., 56967., ..., 54647., 25000., 70000.])"
      ]
     },
     "execution_count": 23,
     "metadata": {},
     "output_type": "execute_result"
    }
   ],
   "source": [
    "salaries = np.genfromtxt('data/salary.csv', delimiter=\",\")\n",
    "salaries"
   ]
  },
  {
   "cell_type": "code",
   "execution_count": 24,
   "id": "c0001129",
   "metadata": {},
   "outputs": [
    {
     "data": {
      "text/plain": [
       "(1147,)"
      ]
     },
     "execution_count": 24,
     "metadata": {},
     "output_type": "execute_result"
    }
   ],
   "source": [
    "salaries.shape"
   ]
  },
  {
   "cell_type": "code",
   "execution_count": 27,
   "id": "6d578e2a",
   "metadata": {},
   "outputs": [],
   "source": [
    "mean = np.mean(salaries)\n",
    "median = np.median(salaries)\n",
    "\n",
    "std = np.std(salaries)\n",
    "variance = np.var(salaries)"
   ]
  },
  {
   "cell_type": "code",
   "execution_count": 28,
   "id": "cadbe769",
   "metadata": {},
   "outputs": [
    {
     "name": "stdout",
     "output_type": "stream",
     "text": [
      "Mean:  55894.53879686138\n",
      "Median:  48000.0\n",
      "std:  55170.37550939316\n",
      "variance:  3043770333.8474483\n"
     ]
    }
   ],
   "source": [
    "print(\"Mean: \", mean)\n",
    "print(\"Median: \", median)\n",
    "print(\"std: \", std)\n",
    "print(\"variance: \", variance)"
   ]
  },
  {
   "cell_type": "code",
   "execution_count": null,
   "id": "886e9fd9",
   "metadata": {},
   "outputs": [],
   "source": []
  }
 ],
 "metadata": {
  "kernelspec": {
   "display_name": "Python 3",
   "language": "python",
   "name": "python3"
  },
  "language_info": {
   "codemirror_mode": {
    "name": "ipython",
    "version": 3
   },
   "file_extension": ".py",
   "mimetype": "text/x-python",
   "name": "python",
   "nbconvert_exporter": "python",
   "pygments_lexer": "ipython3",
   "version": "3.8.8"
  }
 },
 "nbformat": 4,
 "nbformat_minor": 5
}
