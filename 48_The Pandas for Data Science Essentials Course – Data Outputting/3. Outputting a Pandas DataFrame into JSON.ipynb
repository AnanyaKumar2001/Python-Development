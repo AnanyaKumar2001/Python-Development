{
 "cells": [
  {
   "cell_type": "code",
   "execution_count": 3,
   "id": "331989db",
   "metadata": {},
   "outputs": [],
   "source": [
    "import json\n",
    "import pandas as pd\n",
    "import os\n",
    "\n",
    "df = pd.read_pickle(os.path.join('DataFrame.pickle'))\n",
    "small_df = df.iloc[49980:50019, :].copy()"
   ]
  },
  {
   "cell_type": "code",
   "execution_count": 4,
   "id": "2e21ffd6",
   "metadata": {},
   "outputs": [],
   "source": [
    "small_df.to_json('art.json')"
   ]
  },
  {
   "cell_type": "code",
   "execution_count": 5,
   "id": "dfd722d6",
   "metadata": {},
   "outputs": [],
   "source": [
    "small_df.to_json('table_art.json', orient='table')"
   ]
  },
  {
   "cell_type": "code",
   "execution_count": null,
   "id": "4e7448df",
   "metadata": {},
   "outputs": [],
   "source": []
  }
 ],
 "metadata": {
  "kernelspec": {
   "display_name": "Python 3",
   "language": "python",
   "name": "python3"
  },
  "language_info": {
   "codemirror_mode": {
    "name": "ipython",
    "version": 3
   },
   "file_extension": ".py",
   "mimetype": "text/x-python",
   "name": "python",
   "nbconvert_exporter": "python",
   "pygments_lexer": "ipython3",
   "version": "3.8.8"
  }
 },
 "nbformat": 4,
 "nbformat_minor": 5
}
