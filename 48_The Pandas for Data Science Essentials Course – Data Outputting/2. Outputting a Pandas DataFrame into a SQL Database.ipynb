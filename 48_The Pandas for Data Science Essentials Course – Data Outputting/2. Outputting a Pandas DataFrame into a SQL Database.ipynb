{
 "cells": [
  {
   "cell_type": "code",
   "execution_count": 1,
   "id": "2e04acf8",
   "metadata": {},
   "outputs": [],
   "source": [
    "import sqlite3\n",
    "import pandas as pd\n",
    "import os\n",
    "\n",
    "df = pd.read_pickle(os.path.join(\"DataFrame.pickle\"))\n",
    "small_df = df.iloc[49980:50019].copy()"
   ]
  },
  {
   "cell_type": "code",
   "execution_count": 2,
   "id": "650a05ed",
   "metadata": {},
   "outputs": [],
   "source": [
    "with sqlite3.connect('my_artist.db') as connection:\n",
    "    small_df.to_sql(\"Tate\", connection)"
   ]
  },
  {
   "cell_type": "code",
   "execution_count": null,
   "id": "9a929a73",
   "metadata": {},
   "outputs": [],
   "source": []
  }
 ],
 "metadata": {
  "kernelspec": {
   "display_name": "Python 3",
   "language": "python",
   "name": "python3"
  },
  "language_info": {
   "codemirror_mode": {
    "name": "ipython",
    "version": 3
   },
   "file_extension": ".py",
   "mimetype": "text/x-python",
   "name": "python",
   "nbconvert_exporter": "python",
   "pygments_lexer": "ipython3",
   "version": "3.8.8"
  }
 },
 "nbformat": 4,
 "nbformat_minor": 5
}
