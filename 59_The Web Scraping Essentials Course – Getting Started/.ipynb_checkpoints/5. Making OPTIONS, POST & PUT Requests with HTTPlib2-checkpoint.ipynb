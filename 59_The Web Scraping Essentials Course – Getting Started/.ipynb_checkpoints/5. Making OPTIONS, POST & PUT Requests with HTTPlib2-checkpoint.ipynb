{
 "cells": [
  {
   "cell_type": "code",
   "execution_count": 1,
   "id": "c58d205a",
   "metadata": {},
   "outputs": [],
   "source": [
    "import httplib2\n",
    "import webbrowser\n",
    "from pprint import pprint"
   ]
  },
  {
   "cell_type": "code",
   "execution_count": 2,
   "id": "b4e5da05",
   "metadata": {},
   "outputs": [],
   "source": [
    "bin_url = 'https://httpbin.org/'"
   ]
  },
  {
   "cell_type": "code",
   "execution_count": 4,
   "id": "af2cac15",
   "metadata": {},
   "outputs": [],
   "source": [
    "http = httplib2.Http()"
   ]
  },
  {
   "cell_type": "code",
   "execution_count": 5,
   "id": "0498e5ae",
   "metadata": {},
   "outputs": [
    {
     "name": "stdout",
     "output_type": "stream",
     "text": [
      "{'access-control-allow-credentials': 'true',\n",
      " 'access-control-allow-methods': 'GET, POST, PUT, DELETE, PATCH, OPTIONS',\n",
      " 'access-control-allow-origin': '*',\n",
      " 'access-control-max-age': '3600',\n",
      " 'allow': 'HEAD, GET, OPTIONS',\n",
      " 'connection': 'keep-alive',\n",
      " 'content-length': '0',\n",
      " 'content-location': 'https://httpbin.org/',\n",
      " 'content-type': 'text/html; charset=utf-8',\n",
      " 'date': 'Sun, 04 Jul 2021 11:47:41 GMT',\n",
      " 'server': 'gunicorn/19.9.0',\n",
      " 'status': '200'}\n"
     ]
    }
   ],
   "source": [
    "resp, data = http.request(bin_url, method=\"OPTIONS\")\n",
    "\n",
    "pprint(resp)"
   ]
  },
  {
   "cell_type": "code",
   "execution_count": 6,
   "id": "f557781b",
   "metadata": {},
   "outputs": [
    {
     "name": "stdout",
     "output_type": "stream",
     "text": [
      "{'access-control-allow-credentials': 'true',\n",
      " 'access-control-allow-origin': '*',\n",
      " 'connection': 'keep-alive',\n",
      " 'content-length': '9593',\n",
      " 'content-location': 'https://httpbin.org/',\n",
      " 'content-type': 'text/html; charset=utf-8',\n",
      " 'date': 'Sun, 04 Jul 2021 11:49:05 GMT',\n",
      " 'server': 'gunicorn/19.9.0',\n",
      " 'status': '200'}\n"
     ]
    }
   ],
   "source": [
    "resp, data = http.request(bin_url, method=\"HEAD\")\n",
    "\n",
    "pprint(resp)"
   ]
  },
  {
   "cell_type": "code",
   "execution_count": 8,
   "id": "1e440480",
   "metadata": {},
   "outputs": [
    {
     "name": "stdout",
     "output_type": "stream",
     "text": [
      "{'access-control-allow-credentials': 'true',\n",
      " 'access-control-allow-origin': '*',\n",
      " 'connection': 'keep-alive',\n",
      " 'content-length': '292',\n",
      " 'content-location': 'https://httpbin.org/get',\n",
      " 'content-type': 'application/json',\n",
      " 'date': 'Sun, 04 Jul 2021 11:50:37 GMT',\n",
      " 'server': 'gunicorn/19.9.0',\n",
      " 'status': '200'}\n"
     ]
    }
   ],
   "source": [
    "resp, data = http.request('https://httpbin.org/get', method=\"GET\")\n",
    "\n",
    "pprint(resp)"
   ]
  },
  {
   "cell_type": "code",
   "execution_count": 9,
   "id": "ede8d961",
   "metadata": {},
   "outputs": [],
   "source": [
    "post_data = '{\"name\": \"Jack\", \"college\": \"Magical Beans\"}'"
   ]
  },
  {
   "cell_type": "code",
   "execution_count": 10,
   "id": "5b6d7255",
   "metadata": {},
   "outputs": [
    {
     "name": "stdout",
     "output_type": "stream",
     "text": [
      "{'access-control-allow-credentials': 'true',\n",
      " 'access-control-allow-origin': '*',\n",
      " 'connection': 'keep-alive',\n",
      " 'content-length': '531',\n",
      " 'content-type': 'application/json',\n",
      " 'date': 'Sun, 04 Jul 2021 11:53:48 GMT',\n",
      " 'server': 'gunicorn/19.9.0',\n",
      " 'status': '200'}\n"
     ]
    }
   ],
   "source": [
    "resp, data = http.request(\"https://httpbin.org/post\",\n",
    "                           method=\"POST\", body=post_data,\n",
    "                           headers={\"content-type\": \"application/json\"})\n",
    "\n",
    "pprint(resp)"
   ]
  },
  {
   "cell_type": "code",
   "execution_count": 11,
   "id": "78ba52fd",
   "metadata": {},
   "outputs": [
    {
     "name": "stdout",
     "output_type": "stream",
     "text": [
      "('{\\n'\n",
      " '  \"args\": {}, \\n'\n",
      " '  \"data\": \"{\\\\\"name\\\\\": \\\\\"Jack\\\\\", \\\\\"college\\\\\": \\\\\"Magical Beans\\\\\"}\", \\n'\n",
      " '  \"files\": {}, \\n'\n",
      " '  \"form\": {}, \\n'\n",
      " '  \"headers\": {\\n'\n",
      " '    \"Accept-Encoding\": \"gzip, deflate\", \\n'\n",
      " '    \"Content-Length\": \"44\", \\n'\n",
      " '    \"Content-Type\": \"application/json\", \\n'\n",
      " '    \"Host\": \"httpbin.org\", \\n'\n",
      " '    \"User-Agent\": \"Python-httplib2/0.19.1 (gzip)\", \\n'\n",
      " '    \"X-Amzn-Trace-Id\": \"Root=1-60e1a14c-6542703f7365ef2a1048519f\"\\n'\n",
      " '  }, \\n'\n",
      " '  \"json\": {\\n'\n",
      " '    \"college\": \"Magical Beans\", \\n'\n",
      " '    \"name\": \"Jack\"\\n'\n",
      " '  }, \\n'\n",
      " '  \"origin\": \"137.59.123.18\", \\n'\n",
      " '  \"url\": \"https://httpbin.org/post\"\\n'\n",
      " '}\\n')\n"
     ]
    }
   ],
   "source": [
    "pprint(data.decode(\"UTF-8\"))"
   ]
  },
  {
   "cell_type": "code",
   "execution_count": 12,
   "id": "d6987f0a",
   "metadata": {},
   "outputs": [
    {
     "name": "stdout",
     "output_type": "stream",
     "text": [
      "{'access-control-allow-credentials': 'true',\n",
      " 'access-control-allow-origin': '*',\n",
      " 'connection': 'keep-alive',\n",
      " 'content-length': '530',\n",
      " 'content-type': 'application/json',\n",
      " 'date': 'Sun, 04 Jul 2021 11:57:01 GMT',\n",
      " 'server': 'gunicorn/19.9.0',\n",
      " 'status': '200'}\n"
     ]
    }
   ],
   "source": [
    "resp, data = http.request(\"https://httpbin.org/put\",\n",
    "                           method=\"PUT\",\n",
    "                           body=post_data,\n",
    "                           headers={\"content-type\": \"application/json\"})\n",
    "\n",
    "pprint(resp)"
   ]
  },
  {
   "cell_type": "code",
   "execution_count": 13,
   "id": "b5c13c54",
   "metadata": {},
   "outputs": [
    {
     "name": "stdout",
     "output_type": "stream",
     "text": [
      "('{\\n'\n",
      " '  \"args\": {}, \\n'\n",
      " '  \"data\": \"{\\\\\"name\\\\\": \\\\\"Jack\\\\\", \\\\\"college\\\\\": \\\\\"Magical Beans\\\\\"}\", \\n'\n",
      " '  \"files\": {}, \\n'\n",
      " '  \"form\": {}, \\n'\n",
      " '  \"headers\": {\\n'\n",
      " '    \"Accept-Encoding\": \"gzip, deflate\", \\n'\n",
      " '    \"Content-Length\": \"44\", \\n'\n",
      " '    \"Content-Type\": \"application/json\", \\n'\n",
      " '    \"Host\": \"httpbin.org\", \\n'\n",
      " '    \"User-Agent\": \"Python-httplib2/0.19.1 (gzip)\", \\n'\n",
      " '    \"X-Amzn-Trace-Id\": \"Root=1-60e1a20d-3980f7980eb3631d02336d88\"\\n'\n",
      " '  }, \\n'\n",
      " '  \"json\": {\\n'\n",
      " '    \"college\": \"Magical Beans\", \\n'\n",
      " '    \"name\": \"Jack\"\\n'\n",
      " '  }, \\n'\n",
      " '  \"origin\": \"137.59.123.18\", \\n'\n",
      " '  \"url\": \"https://httpbin.org/put\"\\n'\n",
      " '}\\n')\n"
     ]
    }
   ],
   "source": [
    "pprint(data.decode(\"UTF-8\"))"
   ]
  },
  {
   "cell_type": "code",
   "execution_count": null,
   "id": "6fbaee9b",
   "metadata": {},
   "outputs": [],
   "source": []
  }
 ],
 "metadata": {
  "kernelspec": {
   "display_name": "Python 3",
   "language": "python",
   "name": "python3"
  },
  "language_info": {
   "codemirror_mode": {
    "name": "ipython",
    "version": 3
   },
   "file_extension": ".py",
   "mimetype": "text/x-python",
   "name": "python",
   "nbconvert_exporter": "python",
   "pygments_lexer": "ipython3",
   "version": "3.8.8"
  }
 },
 "nbformat": 4,
 "nbformat_minor": 5
}
