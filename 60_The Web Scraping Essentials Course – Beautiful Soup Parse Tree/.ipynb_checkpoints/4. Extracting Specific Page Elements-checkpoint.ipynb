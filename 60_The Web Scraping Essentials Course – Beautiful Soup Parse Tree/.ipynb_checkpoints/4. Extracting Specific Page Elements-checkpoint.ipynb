{
 "cells": [
  {
   "cell_type": "code",
   "execution_count": 1,
   "id": "e80f92a3",
   "metadata": {},
   "outputs": [],
   "source": [
    "import requests\n",
    "import webbrowser\n",
    "\n",
    "from bs4 import BeautifulSoup"
   ]
  },
  {
   "cell_type": "code",
   "execution_count": 2,
   "id": "6d97fe12",
   "metadata": {},
   "outputs": [
    {
     "data": {
      "text/plain": [
       "<Response [200]>"
      ]
     },
     "execution_count": 2,
     "metadata": {},
     "output_type": "execute_result"
    }
   ],
   "source": [
    "resp = requests.get(\"https://google.com\")\n",
    "resp"
   ]
  },
  {
   "cell_type": "code",
   "execution_count": 3,
   "id": "5ba086d1",
   "metadata": {},
   "outputs": [
    {
     "data": {
      "text/plain": [
       "<!DOCTYPE html>\n",
       "<html dir=\"rtl\" itemscope=\"\" itemtype=\"http://schema.org/WebPage\" lang=\"ps\"><head><meta content=\"text/html; charset=utf-8\" http-equiv=\"Content-Type\"/><meta content=\"/images/branding/googleg/1x/googleg_standard_color_128dp.png\" itemprop=\"image\"/><title>Google</title><script nonce=\"BDmsESz7Tt51DqA0m/kfpA==\">(function(){window.google={kEI:'ehTkYPLHE8q4gQb85b_4Dw',kEXPI:'0,772215,1,530320,56873,954,5104,207,2415,2389,2316,383,246,5,1354,5250,6386,9846,10,1106274,1197725,557,83,6,328896,51223,16109,28690,17572,4858,1362,9291,3022,17586,4998,13228,3847,399,10223,14527,4518,2777,919,5081,1593,1279,2212,530,149,1103,840,2197,4100,3514,606,2023,1777,520,14670,3227,1989,856,7,5599,6755,5096,7876,5037,3407,908,2,941,2614,13142,3,346,230,4386,2074,148,12314,1661,4,1528,2304,1236,10487,2014,4067,14308,2658,4243,3114,30,13628,2305,638,7080,7820,2715,665,2522,3254,2581,4094,18,3120,6,908,3,3363,178,1,14710,1814,283,912,5992,2826,4912,2880,1908,2,1394,2806,1715,2,3057,483,1534,521,2,1,3,2808,7544,1532,2379,91,1713,618,1274,4172,406,2095,1602,173,2571,1013,1379,488,100,2,1040,75,1024,61,1269,3426,2,1712,291,1441,32,904,274,3,1123,1322,2988,370,314,873,3,75,52,3662,2,4,936,685,57,13,1270,177,321,2133,16,1,704,362,223,242,222,1897,387,2,4,301,2,6,29,2,6,24,89,2,929,1166,463,48,74,568,326,2,1,1025,6,2536,305,672,439,42,4,735,41,11,2,297,150,746,923,266,590,12,1069,125,2,1151,5620422,189,5,32,63,157,59,5996809,2800697,882,444,1,2,80,1,1796,1,9,2,2551,1,748,141,795,563,1,4265,1,1,2,1331,3299,843,2609,155,17,13,72,139,4,2,20,2,169,13,19,46,5,39,96,548,29,2,2,1,2,1,2,2,7,4,1,2,2,2,2,2,2,353,513,186,1,1,27,17,2,4,2,2,104,3,2,2,2,2,2,4,2,3,3,43,18,23954930,2857455,8573,1144246,268,1835,26464,2,2377,3,120,3,6,338,3,1840,499,75,538,479,307,456,805,204',kBL:'_xYY'};google.sn='webhp';google.kHL='ps';})();(function(){\n",
       "var f=this||self;var h,k=[];function l(a){for(var b;a&&(!a.getAttribute||!(b=a.getAttribute(\"eid\")));)a=a.parentNode;return b||h}function m(a){for(var b=null;a&&(!a.getAttribute||!(b=a.getAttribute(\"leid\")));)a=a.parentNode;return b}\n",
       "function n(a,b,c,d,g){var e=\"\";c||-1!==b.search(\"&ei=\")||(e=\"&ei=\"+l(d),-1===b.search(\"&lei=\")&&(d=m(d))&&(e+=\"&lei=\"+d));d=\"\";!c&&f._cshid&&-1===b.search(\"&cshid=\")&&\"slh\"!==a&&(d=\"&cshid=\"+f._cshid);c=c||\"/\"+(g||\"gen_204\")+\"?atyp=i&ct=\"+a+\"&cad=\"+b+e+\"&zx=\"+Date.now()+d;/^http:/i.test(c)&&\"https:\"===window.location.protocol&&(google.ml&&google.ml(Error(\"a\"),!1,{src:c,glmm:1}),c=\"\");return c};h=google.kEI;google.getEI=l;google.getLEI=m;google.ml=function(){return null};google.log=function(a,b,c,d,g){if(c=n(a,b,c,d,g)){a=new Image;var e=k.length;k[e]=a;a.onerror=a.onload=a.onabort=function(){delete k[e]};a.src=c}};google.logUrl=n;}).call(this);(function(){\n",
       "google.y={};google.sy=[];google.x=function(a,b){if(a)var c=a.id;else{do c=Math.random();while(google.y[c])}google.y[c]=[a,b];return!1};google.sx=function(a){google.sy.push(a)};google.lm=[];google.plm=function(a){google.lm.push.apply(google.lm,a)};google.lq=[];google.load=function(a,b,c){google.lq.push([[a],b,c])};google.loadAll=function(a,b){google.lq.push([a,b])};google.bx=!1;google.lx=function(){};}).call(this);google.f={};(function(){\n",
       "document.documentElement.addEventListener(\"submit\",function(b){var a;if(a=b.target){var c=a.getAttribute(\"data-submitfalse\");a=\"1\"==c||\"q\"==c&&!a.elements.q.value?!0:!1}else a=!1;a&&(b.preventDefault(),b.stopPropagation())},!0);document.documentElement.addEventListener(\"click\",function(b){var a;a:{for(a=b.target;a&&a!=document.documentElement;a=a.parentElement)if(\"A\"==a.tagName){a=\"1\"==a.getAttribute(\"data-nohref\");break a}a=!1}a&&b.preventDefault()},!0);}).call(this);</script><style>#gbar,#guser{font-size:13px;padding-top:1px !important;}#gbar{height:22px}#guser{padding-bottom:7px !important;text-align:left}.gbh,.gbd{border-top:1px solid #c9d7f1;font-size:1px}.gbh{height:0;position:absolute;top:24px;width:100%}@media all{.gb1{height:22px;margin-left:.5em;vertical-align:top}#gbar{float:right}}a.gb1,a.gb4{text-decoration:underline !important}a.gb1,a.gb4{color:#00c !important}.gbi .gb4{color:#dd8e27 !important}.gbf .gb4{color:#900 !important}\n",
       "</style><style>body,td,a,p,.h{font-family:arial,sans-serif}body{margin:0;overflow-y:scroll}#gog{padding:3px 8px 0}td{line-height:.8em}.gac_m td{line-height:17px}form{margin-bottom:20px}.h{color:#1558d6}em{font-weight:bold;font-style:normal}.lst{height:25px;width:496px}.gsfi,.lst{font:18px arial,sans-serif}.gsfs{font:17px arial,sans-serif}.ds{display:inline-box;display:inline-block;margin:3px 0 4px;margin-right:4px}input{font-family:inherit}body{background:#fff;color:#000}a{color:#4b11a8;text-decoration:none}a:hover,a:active{text-decoration:underline}.fl a{color:#1558d6}a:visited{color:#4b11a8}.sblc{padding-top:5px}.sblc a{display:block;margin:2px 0;margin-right:13px;font-size:11px}.lsbb{background:#f8f9fa;border:solid 1px;border-color:#dadce0 #dadce0 #70757a #70757a;height:30px}.lsbb{display:block}#WqQANb a{display:inline-block;margin:0 12px}.lsb{background:url(/images/nav_logo229.png) 0 -261px repeat-x;border:none;color:#000;cursor:pointer;height:30px;margin:0;outline:0;font:15px arial,sans-serif;vertical-align:top}.lsb:active{background:#dadce0}.lst:focus{outline:none}.tiah{width:458px}</style><script nonce=\"BDmsESz7Tt51DqA0m/kfpA==\"></script></head><body bgcolor=\"#fff\"><script nonce=\"BDmsESz7Tt51DqA0m/kfpA==\">(function(){var src='/images/nav_logo229.png';var iesg=false;document.body.onload = function(){window.n && window.n();if (document.images){new Image().src=src;}\n",
       "if (!iesg){document.f&&document.f.q.focus();document.gbqf&&document.gbqf.q.focus();}\n",
       "}\n",
       "})();</script><div id=\"mngb\"><div id=\"gbar\"><nobr><b class=\"gb1\">Search</b> <a class=\"gb1\" href=\"https://www.google.com.af/imghp?hl=ps&amp;tab=wi\">انځورونه</a> <a class=\"gb1\" href=\"https://news.google.com/?tab=wn\">خبرونه</a> <a class=\"gb1\" href=\"https://mail.google.com/mail/?tab=wm\">Gmail</a> <a class=\"gb1\" href=\"https://drive.google.com/?tab=wo\">Drive</a> <a class=\"gb1\" href=\"https://calendar.google.com/calendar?tab=wc\">کليز</a> <a class=\"gb1\" href=\"https://translate.google.com.af/?hl=ps&amp;tab=wT\">ژباړه</a> <a class=\"gb1\" href=\"https://books.google.com.af/?hl=ps&amp;tab=wp\">Books</a> </nobr></div><div id=\"guser\" width=\"100%\"><nobr><span class=\"gbi\" id=\"gbn\"></span><span class=\"gbf\" id=\"gbf\"></span><span id=\"gbe\"></span><a class=\"gb4\" href=\"http://www.google.com.af/history/optout?hl=ps\">د جال پېښليک</a> | <a class=\"gb4\" href=\"/preferences?hl=ps\">غوره توبونه</a> | <a class=\"gb4\" href=\"https://accounts.google.com/ServiceLogin?hl=ps&amp;passive=true&amp;continue=https://www.google.com/&amp;ec=GAZAAQ\" id=\"gb_70\" target=\"_top\">ننوتل</a></nobr></div><div class=\"gbh\" style=\"left:0\"></div><div class=\"gbh\" style=\"right:0\"></div></div><center><br clear=\"all\" id=\"lgpd\"/><div id=\"lga\"><img alt=\"Google\" height=\"92\" id=\"hplogo\" src=\"/images/branding/googlelogo/1x/googlelogo_white_background_color_272x92dp.png\" style=\"padding:28px 0 14px\" width=\"272\"/><br/><br/></div><form action=\"/search\" name=\"f\"><table cellpadding=\"0\" cellspacing=\"0\"><tr valign=\"top\"><td width=\"25%\"> </td><td align=\"center\" nowrap=\"\"><input name=\"ie\" type=\"hidden\" value=\"ISO-8859-1\"/><input name=\"hl\" type=\"hidden\" value=\"ps\"/><input name=\"source\" type=\"hidden\" value=\"hp\"/><input name=\"biw\" type=\"hidden\"/><input name=\"bih\" type=\"hidden\"/><div class=\"ds\" style=\"height:32px;margin:4px 0\"><div style=\"position:relative;zoom:1\"><input class=\"lst tiah\" maxlength=\"2048\" name=\"q\" size=\"57\" style=\"margin:0;padding:5px 6px 0 8px;vertical-align:top;color:#000;padding-left:38px\" title=\"ګووګل لټون\" value=\"\"/><img alt=\"\" data-script-url=\"/textinputassistant/11/ps_tia.js\" height=\"23\" id=\"tsuid1\" src=\"/textinputassistant/tia.png\" style=\"position:absolute;cursor:pointer;left:5px;top:4px;z-index:300\" width=\"27\"/><script nonce=\"BDmsESz7Tt51DqA0m/kfpA==\">(function(){var id='tsuid1';document.getElementById(id).onclick = function(){var s = document.createElement('script');s.src = this.getAttribute('data-script-url');(document.getElementById('xjsc')||document.body).appendChild(s);};})();</script></div></div><br style=\"line-height:0\"/><span class=\"ds\"><span class=\"lsbb\"><input class=\"lsb\" name=\"btnG\" type=\"submit\" value=\"ګووګل لټون\"/></span></span><span class=\"ds\"><span class=\"lsbb\"><input class=\"lsb\" id=\"tsuid2\" name=\"btnI\" type=\"submit\" value=\"توكل په خداى\"/><script nonce=\"BDmsESz7Tt51DqA0m/kfpA==\">(function(){var id='tsuid2';document.getElementById(id).onclick = function(){if (this.form.q.value){this.checked = 1;if (this.form.iflsig)this.form.iflsig.disabled = false;}\n",
       "else top.location='/doodles/';};})();</script><input name=\"iflsig\" type=\"hidden\" value=\"AINFCbYAAAAAYOQiijozYl1oqp1h_jYHf10kKgUHh7kt\"/></span></span></td><td align=\"right\" class=\"fl sblc\" nowrap=\"\" width=\"25%\"><a href=\"/advanced_search?hl=ps&amp;authuser=0\">بریونلي لټون</a></td></tr></table><input id=\"gbv\" name=\"gbv\" type=\"hidden\" value=\"1\"/><script nonce=\"BDmsESz7Tt51DqA0m/kfpA==\">(function(){\n",
       "var a,b=\"1\";if(document&&document.getElementById)if(\"undefined\"!=typeof XMLHttpRequest)b=\"2\";else if(\"undefined\"!=typeof ActiveXObject){var c,d,e=[\"MSXML2.XMLHTTP.6.0\",\"MSXML2.XMLHTTP.3.0\",\"MSXML2.XMLHTTP\",\"Microsoft.XMLHTTP\"];for(c=0;d=e[c++];)try{new ActiveXObject(d),b=\"2\"}catch(h){}}a=b;if(\"2\"==a&&-1==location.search.indexOf(\"&gbv=2\")){var f=google.gbvu,g=document.getElementById(\"gbv\");g&&(g.value=a);f&&window.setTimeout(function(){location.href=f},0)};}).call(this);</script></form><div id=\"gac_scont\"></div><div style=\"font-size:83%;min-height:3.5em\"><br/><div id=\"gws-output-pages-elements-homepage_additional_languages__als\"><style>#gws-output-pages-elements-homepage_additional_languages__als{font-size:small;margin-bottom:24px}#SIvCob{display:inline-block;line-height:28px;}#SIvCob a{padding:0 3px;}.H6sW5{display:inline-block;margin:0 2px;white-space:nowrap}.z4hgWe{display:inline-block;margin:0 2px}</style><div id=\"SIvCob\">Google offered in:  <a href=\"https://www.google.com/setprefs?sig=0_u9GarKCqluOxu5WACSjccuZvhxQ%3D&amp;hl=fa&amp;source=homepage&amp;sa=X&amp;ved=0ahUKEwjy7N3Lg87xAhVKXMAKHfzyD_8Q2ZgBCAU\">فارسی</a> </div></div></div><span id=\"footer\"><div style=\"font-size:10pt\"><div id=\"WqQANb\" style=\"margin:19px auto;text-align:center\"><a href=\"/intl/ps/about.html\">هر څه د ګووګل په اړه</a><a dir=\"ltr\" href=\"https://www.google.com/setprefdomain?prefdom=AF&amp;prev=https://www.google.com.af/&amp;sig=K_VSDJEcI9UyizJR-UeYptwT3mPu0%3D\">Google.com.af</a></div></div><p style=\"font-size:8pt;color:#70757a\">© 2021</p></span></center><script nonce=\"BDmsESz7Tt51DqA0m/kfpA==\">(function(){window.google.cdo={height:757,width:1440};(function(){\n",
       "var a=window.innerWidth,b=window.innerHeight;if(!a||!b){var c=window.document,d=\"CSS1Compat\"==c.compatMode?c.documentElement:c.body;a=d.clientWidth;b=d.clientHeight}a&&b&&(a!=google.cdo.width||b!=google.cdo.height)&&google.log(\"\",\"\",\"/client_204?&atyp=i&biw=\"+a+\"&bih=\"+b+\"&ei=\"+google.kEI);}).call(this);})();</script> <script nonce=\"BDmsESz7Tt51DqA0m/kfpA==\">(function(){google.xjs={ck:'',cs:'',excm:[],pml:false};})();</script> <script nonce=\"BDmsESz7Tt51DqA0m/kfpA==\">(function(){var u='/xjs/_/js/k\\x3dxjs.hp.en.OTRmeY22mH4.O/m\\x3dd/am\\x3dAHgCLA/d\\x3d1/ed\\x3d1/rs\\x3dACT90oF9yskaRyQ3wYNLxfIHfQOzMXfu6A';\n",
       "var e=this||self,f=function(a){return a};var g;var l=function(a,b){this.g=b===h?a:\"\"};l.prototype.toString=function(){return this.g+\"\"};var h={};function m(){var a=u;google.lx=function(){n(a);google.lx=function(){}};google.bx||google.lx()}\n",
       "function n(a){google.timers&&google.timers.load&&google.tick&&google.tick(\"load\",\"xjsls\");var b=document;var c=\"SCRIPT\";\"application/xhtml+xml\"===b.contentType&&(c=c.toLowerCase());c=b.createElement(c);if(void 0===g){b=null;var k=e.trustedTypes;if(k&&k.createPolicy){try{b=k.createPolicy(\"goog#html\",{createHTML:f,createScript:f,createScriptURL:f})}catch(p){e.console&&e.console.error(p.message)}g=b}else g=b}a=(b=g)?b.createScriptURL(a):a;a=new l(a,h);c.src=a instanceof l&&a.constructor===l?a.g:\"type_error:TrustedResourceUrl\";var d;a=(c.ownerDocument&&c.ownerDocument.defaultView||window).document;(d=(a=null===(d=a.querySelector)||void 0===d?void 0:d.call(a,\"script[nonce]\"))?a.nonce||a.getAttribute(\"nonce\")||\"\":\"\")&&c.setAttribute(\"nonce\",d);document.body.appendChild(c);google.psa=!0};setTimeout(function(){m()},0);})();(function(){window.google.xjsu='/xjs/_/js/k\\x3dxjs.hp.en.OTRmeY22mH4.O/m\\x3dd/am\\x3dAHgCLA/d\\x3d1/ed\\x3d1/rs\\x3dACT90oF9yskaRyQ3wYNLxfIHfQOzMXfu6A';})();function _DumpException(e){throw e;}\n",
       "function _F_installCss(c){}\n",
       "(function(){google.jl={attn:false,blt:'none',dw:false,emtn:0,ine:false,lls:'default',pdt:0,snet:true,ubm:false,uwp:true};})();(function(){var pmc='{\\x22d\\x22:{}}';google.pmc=JSON.parse(pmc);})();</script> </body></html>"
      ]
     },
     "execution_count": 3,
     "metadata": {},
     "output_type": "execute_result"
    }
   ],
   "source": [
    "soup = BeautifulSoup(resp.text, \"lxml\")\n",
    "\n",
    "soup"
   ]
  },
  {
   "cell_type": "code",
   "execution_count": 4,
   "id": "5bc1b85b",
   "metadata": {},
   "outputs": [
    {
     "data": {
      "text/plain": [
       "bs4.BeautifulSoup"
      ]
     },
     "execution_count": 4,
     "metadata": {},
     "output_type": "execute_result"
    }
   ],
   "source": [
    "type(soup)"
   ]
  },
  {
   "cell_type": "code",
   "execution_count": 5,
   "id": "67f4d6d5",
   "metadata": {},
   "outputs": [],
   "source": [
    "with open(\"files/GiantPanda.html\") as html_code:\n",
    "    soup = BeautifulSoup(html_code, \"lxml\")"
   ]
  },
  {
   "cell_type": "code",
   "execution_count": 6,
   "id": "038bba3b",
   "metadata": {},
   "outputs": [
    {
     "name": "stdout",
     "output_type": "stream",
     "text": [
      "<html>\n",
      " <head>\n",
      "  <title>\n",
      "   \"Giant Panda\"\n",
      "  </title>\n",
      " </head>\n",
      " <body>\n",
      "  <h1>\n",
      "   The giant panda also known as panda bear or simply panda\n",
      "  </h1>\n",
      "  <h2 style=\"color:blue;\">\n",
      "   Giant Panda\n",
      "  </h2>\n",
      "  <h3 style=\"background-color:yellow;color:red;\">\n",
      "   The name \"giant panda\" is sometimes used to distinguish it from the\n",
      "   <br/>\n",
      "   red panda.\n",
      "  </h3>\n",
      "  <h6>\n",
      "   The giant panda lives in a few mountain ranges in central China\n",
      "  </h6>\n",
      "  <b class=\"panda\">\n",
      "   pandas were thought to be rare and noble creatures\n",
      "  </b>\n",
      "  <div>\n",
      "   <a href=\"https://en.wikipedia.org/wiki/Giant_panda\">\n",
      "    Link to Wikipedia page\n",
      "   </a>\n",
      "  </div>\n",
      "  <br/>\n",
      "  <br/>\n",
      "  <i>\n",
      "   <!--Here is a Panda image from Wikipedia -->\n",
      "  </i>\n",
      "  <div>\n",
      "   <img alt=\"panda not found\" src=\"Panda.jpeg\"/>\n",
      "  </div>\n",
      "  <div>\n",
      "   <p class=\"panda highlight\">\n",
      "    Giant pandas in the wild will occasionally eat other grasses, wild tubers, or even meat in the form of birds\n",
      "   </p>\n",
      "  </div>\n",
      " </body>\n",
      "</html>\n"
     ]
    }
   ],
   "source": [
    "print(soup.prettify())"
   ]
  },
  {
   "cell_type": "code",
   "execution_count": 7,
   "id": "448ef338",
   "metadata": {},
   "outputs": [
    {
     "data": {
      "text/plain": [
       "<title>\"Giant Panda\"</title>"
      ]
     },
     "execution_count": 7,
     "metadata": {},
     "output_type": "execute_result"
    }
   ],
   "source": [
    "tag = soup.title\n",
    "tag"
   ]
  },
  {
   "cell_type": "code",
   "execution_count": 8,
   "id": "6706b1b7",
   "metadata": {},
   "outputs": [
    {
     "data": {
      "text/plain": [
       "bs4.element.Tag"
      ]
     },
     "execution_count": 8,
     "metadata": {},
     "output_type": "execute_result"
    }
   ],
   "source": [
    "type(tag)"
   ]
  },
  {
   "cell_type": "code",
   "execution_count": 9,
   "id": "b67949f0",
   "metadata": {},
   "outputs": [
    {
     "data": {
      "text/plain": [
       "<h2 style=\"color:blue;\">Giant Panda</h2>"
      ]
     },
     "execution_count": 9,
     "metadata": {},
     "output_type": "execute_result"
    }
   ],
   "source": [
    "tag = soup.h2\n",
    "tag"
   ]
  },
  {
   "cell_type": "code",
   "execution_count": 10,
   "id": "b44567da",
   "metadata": {},
   "outputs": [],
   "source": [
    "tag = soup.h1"
   ]
  },
  {
   "cell_type": "code",
   "execution_count": 11,
   "id": "cd37f01e",
   "metadata": {},
   "outputs": [
    {
     "data": {
      "text/plain": [
       "<h1>The giant panda also known as panda bear or simply panda</h1>"
      ]
     },
     "execution_count": 11,
     "metadata": {},
     "output_type": "execute_result"
    }
   ],
   "source": [
    "tag"
   ]
  },
  {
   "cell_type": "code",
   "execution_count": 13,
   "id": "220abce5",
   "metadata": {},
   "outputs": [
    {
     "data": {
      "text/plain": [
       "'h1'"
      ]
     },
     "execution_count": 13,
     "metadata": {},
     "output_type": "execute_result"
    }
   ],
   "source": [
    "tag.name"
   ]
  },
  {
   "cell_type": "code",
   "execution_count": 14,
   "id": "d81b11d5",
   "metadata": {},
   "outputs": [
    {
     "data": {
      "text/plain": [
       "'helalee'"
      ]
     },
     "execution_count": 14,
     "metadata": {},
     "output_type": "execute_result"
    }
   ],
   "source": [
    "tag.name = \"helalee\"\n",
    "tag.name"
   ]
  },
  {
   "cell_type": "code",
   "execution_count": 15,
   "id": "7342fc40",
   "metadata": {},
   "outputs": [],
   "source": [
    "tag = soup.helalee"
   ]
  },
  {
   "cell_type": "code",
   "execution_count": 16,
   "id": "96b87d51",
   "metadata": {},
   "outputs": [
    {
     "data": {
      "text/plain": [
       "<helalee>The giant panda also known as panda bear or simply panda</helalee>"
      ]
     },
     "execution_count": 16,
     "metadata": {},
     "output_type": "execute_result"
    }
   ],
   "source": [
    "tag"
   ]
  },
  {
   "cell_type": "code",
   "execution_count": 17,
   "id": "194e330d",
   "metadata": {},
   "outputs": [
    {
     "data": {
      "text/plain": [
       "<a href=\"https://en.wikipedia.org/wiki/Giant_panda\"> Link to Wikipedia page </a>"
      ]
     },
     "execution_count": 17,
     "metadata": {},
     "output_type": "execute_result"
    }
   ],
   "source": [
    "tag = soup.a\n",
    "tag"
   ]
  },
  {
   "cell_type": "code",
   "execution_count": 18,
   "id": "0f913007",
   "metadata": {},
   "outputs": [
    {
     "data": {
      "text/plain": [
       "'https://en.wikipedia.org/wiki/Giant_panda'"
      ]
     },
     "execution_count": 18,
     "metadata": {},
     "output_type": "execute_result"
    }
   ],
   "source": [
    "tag[\"href\"]"
   ]
  },
  {
   "cell_type": "code",
   "execution_count": 19,
   "id": "0b2e3411",
   "metadata": {},
   "outputs": [
    {
     "data": {
      "text/plain": [
       "{'href': 'https://en.wikipedia.org/wiki/Giant_panda'}"
      ]
     },
     "execution_count": 19,
     "metadata": {},
     "output_type": "execute_result"
    }
   ],
   "source": [
    "tag.attrs"
   ]
  },
  {
   "cell_type": "code",
   "execution_count": 20,
   "id": "c05fb519",
   "metadata": {},
   "outputs": [
    {
     "data": {
      "text/plain": [
       "<img alt=\"panda not found\" src=\"Panda.jpeg\"/>"
      ]
     },
     "execution_count": 20,
     "metadata": {},
     "output_type": "execute_result"
    }
   ],
   "source": [
    "tag = soup.img\n",
    "tag"
   ]
  },
  {
   "cell_type": "code",
   "execution_count": 21,
   "id": "aee91880",
   "metadata": {},
   "outputs": [
    {
     "data": {
      "text/plain": [
       "{'src': 'Panda.jpeg', 'alt': 'panda not found'}"
      ]
     },
     "execution_count": 21,
     "metadata": {},
     "output_type": "execute_result"
    }
   ],
   "source": [
    "tag.attrs"
   ]
  },
  {
   "cell_type": "code",
   "execution_count": 22,
   "id": "f6e5e747",
   "metadata": {},
   "outputs": [
    {
     "data": {
      "text/plain": [
       "<b class=\"panda\">pandas were thought to be rare and noble creatures</b>"
      ]
     },
     "execution_count": 22,
     "metadata": {},
     "output_type": "execute_result"
    }
   ],
   "source": [
    "tag = soup.b\n",
    "tag"
   ]
  },
  {
   "cell_type": "code",
   "execution_count": 23,
   "id": "90a6175c",
   "metadata": {},
   "outputs": [
    {
     "data": {
      "text/plain": [
       "['panda']"
      ]
     },
     "execution_count": 23,
     "metadata": {},
     "output_type": "execute_result"
    }
   ],
   "source": [
    "tag[\"class\"]"
   ]
  },
  {
   "cell_type": "code",
   "execution_count": 24,
   "id": "e0c62e7a",
   "metadata": {},
   "outputs": [
    {
     "data": {
      "text/plain": [
       "<p class=\"panda highlight\">Giant pandas in the wild will occasionally eat other grasses, wild tubers, or even meat in the form of birds</p>"
      ]
     },
     "execution_count": 24,
     "metadata": {},
     "output_type": "execute_result"
    }
   ],
   "source": [
    "tag = soup.p\n",
    "tag"
   ]
  },
  {
   "cell_type": "code",
   "execution_count": 25,
   "id": "924eac2f",
   "metadata": {},
   "outputs": [
    {
     "data": {
      "text/plain": [
       "['panda', 'highlight']"
      ]
     },
     "execution_count": 25,
     "metadata": {},
     "output_type": "execute_result"
    }
   ],
   "source": [
    "tag[\"class\"]"
   ]
  },
  {
   "cell_type": "code",
   "execution_count": 26,
   "id": "c8cf1862",
   "metadata": {},
   "outputs": [
    {
     "data": {
      "text/plain": [
       "['panda', 'highlight']"
      ]
     },
     "execution_count": 26,
     "metadata": {},
     "output_type": "execute_result"
    }
   ],
   "source": [
    "tag.get_attribute_list(\"class\")"
   ]
  },
  {
   "cell_type": "code",
   "execution_count": 27,
   "id": "8f026e87",
   "metadata": {},
   "outputs": [
    {
     "data": {
      "text/plain": [
       "'Giant pandas in the wild will occasionally eat other grasses, wild tubers, or even meat in the form of birds'"
      ]
     },
     "execution_count": 27,
     "metadata": {},
     "output_type": "execute_result"
    }
   ],
   "source": [
    "tag.string"
   ]
  },
  {
   "cell_type": "code",
   "execution_count": 28,
   "id": "23d01527",
   "metadata": {},
   "outputs": [
    {
     "data": {
      "text/plain": [
       "bs4.element.NavigableString"
      ]
     },
     "execution_count": 28,
     "metadata": {},
     "output_type": "execute_result"
    }
   ],
   "source": [
    "type(tag.string)"
   ]
  },
  {
   "cell_type": "code",
   "execution_count": 29,
   "id": "aee518d5",
   "metadata": {},
   "outputs": [
    {
     "data": {
      "text/plain": [
       "<i><!--Here is a Panda image from Wikipedia --></i>"
      ]
     },
     "execution_count": 29,
     "metadata": {},
     "output_type": "execute_result"
    }
   ],
   "source": [
    "comment = soup.i\n",
    "comment"
   ]
  },
  {
   "cell_type": "code",
   "execution_count": null,
   "id": "2583d17a",
   "metadata": {},
   "outputs": [],
   "source": []
  }
 ],
 "metadata": {
  "kernelspec": {
   "display_name": "Python 3",
   "language": "python",
   "name": "python3"
  },
  "language_info": {
   "codemirror_mode": {
    "name": "ipython",
    "version": 3
   },
   "file_extension": ".py",
   "mimetype": "text/x-python",
   "name": "python",
   "nbconvert_exporter": "python",
   "pygments_lexer": "ipython3",
   "version": "3.8.8"
  }
 },
 "nbformat": 4,
 "nbformat_minor": 5
}
