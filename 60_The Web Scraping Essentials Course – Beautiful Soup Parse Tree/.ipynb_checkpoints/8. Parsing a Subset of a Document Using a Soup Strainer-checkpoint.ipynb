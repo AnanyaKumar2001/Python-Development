{
 "cells": [
  {
   "cell_type": "code",
   "execution_count": 4,
   "id": "a64acff9",
   "metadata": {},
   "outputs": [],
   "source": [
    "import re\n",
    "from bs4 import SoupStrainer, BeautifulSoup"
   ]
  },
  {
   "cell_type": "code",
   "execution_count": 5,
   "id": "727283bb",
   "metadata": {},
   "outputs": [],
   "source": [
    "html_code = \"\"\"\n",
    "\n",
    "<html>\n",
    "<head>\n",
    "    <title> The story of Tom and Jerry </title>\n",
    "</head>\n",
    " <body>\n",
    "    <p class = \"title\"><b>Tom and Jerry</b></p>\n",
    "    <img src = \"TomAndJerry.jpg\" width = \"300\" height = \"300\" alt = \"cartoon_image\"/>\n",
    "    <p class = \"comedy animated series\">\n",
    "        Tom and Jerry is an American animated series of comedy short films created by \n",
    "        <a href = \"https://en.wikipedia.org/wiki/William_Hanna\" class = \"creator\" id = \"link1\" >William_Hanna</a> and  \n",
    "        <a href = \"https://en.wikipedia.org/wiki/Joseph_Barbera\" class = \"creator\" id = \"link2\" >Joseph Barbera</a>. \n",
    "        It centers on a rivalry between the title characters\n",
    "        <a href = \"https://en.wikipedia.org/wiki/Tom_Cat\" class = \"character\" id = \"link3\" >Tom</a>, a cat, and \n",
    "        <a href = \"https://en.wikipedia.org/wiki/Jerry_Mouse\" class = \"character\" id = \"link4\" >Jerry</a>, a mouse.</p> \n",
    "    \n",
    "        <div>\n",
    "                <img src = \"https://upload.wikimedia.org/wikipedia/commons/d/d2/William_Hanna_1977.jpg\" \n",
    "                     width = \"300\" height = \"300\" alt = \"creator_image\" ></img>\n",
    "                <img src = \"https://upload.wikimedia.org/wikipedia/commons/6/67/JBarbera.jpg\" \n",
    "                     width = \"300\" height = \"300\" alt = \"creator_image\"></img>\n",
    "                <img src = \"https://upload.wikimedia.org/wikipedia/en/2/2f/Jerry_Mouse.png\"></img>\n",
    "                <img src = \"https://upload.wikimedia.org/wikipedia/en/f/f6/Tom_Tom_and_Jerry.png\" alt = \"Tom_image\"></img>\n",
    "        </div>\n",
    "        <p class = \"comedy story\">\n",
    "            The series features comic fights between an iconic pair of adversaries, \n",
    "            a house cat (Tom) and a mouse (Jerry). The plots of each short usually center on Tom's \n",
    "            numerous attempts to capture Jerry and the mayhem and destruction that follows. \n",
    "            Tom rarely succeeds in catching Jerry, mainly because of Jerry's cleverness, \n",
    "            cunning abilities, and luck. \n",
    "        </p>\n",
    "        <i>Tom and Jerry show is a full length comedy show</i>\n",
    " </body>\n",
    "</html>\n",
    "\n",
    "\"\"\""
   ]
  },
  {
   "cell_type": "code",
   "execution_count": 7,
   "id": "69f817b6",
   "metadata": {},
   "outputs": [],
   "source": [
    "div_els = SoupStrainer(\"div\")"
   ]
  },
  {
   "cell_type": "code",
   "execution_count": 8,
   "id": "6a9dbb10",
   "metadata": {},
   "outputs": [
    {
     "name": "stdout",
     "output_type": "stream",
     "text": [
      "<div>\n",
      " <img alt=\"creator_image\" height=\"300\" src=\"https://upload.wikimedia.org/wikipedia/commons/d/d2/William_Hanna_1977.jpg\" width=\"300\"/>\n",
      " <img alt=\"creator_image\" height=\"300\" src=\"https://upload.wikimedia.org/wikipedia/commons/6/67/JBarbera.jpg\" width=\"300\"/>\n",
      " <img src=\"https://upload.wikimedia.org/wikipedia/en/2/2f/Jerry_Mouse.png\"/>\n",
      " <img alt=\"Tom_image\" src=\"https://upload.wikimedia.org/wikipedia/en/f/f6/Tom_Tom_and_Jerry.png\"/>\n",
      "</div>\n"
     ]
    }
   ],
   "source": [
    "soup = BeautifulSoup(html_code, \"lxml\", parse_only = div_els)\n",
    "\n",
    "print(soup.prettify())"
   ]
  },
  {
   "cell_type": "code",
   "execution_count": 9,
   "id": "5ab38c6b",
   "metadata": {},
   "outputs": [
    {
     "name": "stdout",
     "output_type": "stream",
     "text": [
      "<a class=\"creator\" href=\"https://en.wikipedia.org/wiki/William_Hanna\" id=\"link1\">\n",
      " William_Hanna\n",
      "</a>\n",
      "<a class=\"creator\" href=\"https://en.wikipedia.org/wiki/Joseph_Barbera\" id=\"link2\">\n",
      " Joseph Barbera\n",
      "</a>\n",
      "<a class=\"character\" href=\"https://en.wikipedia.org/wiki/Tom_Cat\" id=\"link3\">\n",
      " Tom\n",
      "</a>\n",
      "<a class=\"character\" href=\"https://en.wikipedia.org/wiki/Jerry_Mouse\" id=\"link4\">\n",
      " Jerry\n",
      "</a>\n"
     ]
    }
   ],
   "source": [
    "links = SoupStrainer(\"a\")\n",
    "\n",
    "soup = BeautifulSoup(html_code, \"lxml\", parse_only = links)\n",
    "\n",
    "print(soup.prettify())"
   ]
  },
  {
   "cell_type": "code",
   "execution_count": 11,
   "id": "3a0c7bc4",
   "metadata": {},
   "outputs": [
    {
     "name": "stdout",
     "output_type": "stream",
     "text": [
      "None\n"
     ]
    }
   ],
   "source": [
    "print(soup.find(\"p\"))"
   ]
  },
  {
   "cell_type": "code",
   "execution_count": 12,
   "id": "3993dc88",
   "metadata": {},
   "outputs": [
    {
     "name": "stdout",
     "output_type": "stream",
     "text": [
      "<img alt=\"cartoon_image\" height=\"300\" src=\"TomAndJerry.jpg\" width=\"300\"/>\n",
      "<img alt=\"creator_image\" height=\"300\" src=\"https://upload.wikimedia.org/wikipedia/commons/d/d2/William_Hanna_1977.jpg\" width=\"300\"/>\n",
      "<img alt=\"creator_image\" height=\"300\" src=\"https://upload.wikimedia.org/wikipedia/commons/6/67/JBarbera.jpg\" width=\"300\"/>\n",
      "<img src=\"https://upload.wikimedia.org/wikipedia/en/2/2f/Jerry_Mouse.png\"/>\n",
      "<img alt=\"Tom_image\" src=\"https://upload.wikimedia.org/wikipedia/en/f/f6/Tom_Tom_and_Jerry.png\"/>\n",
      "\n"
     ]
    }
   ],
   "source": [
    "imgs = SoupStrainer(\"img\")\n",
    "\n",
    "soup = BeautifulSoup(html_code, \"lxml\", parse_only = imgs)\n",
    "\n",
    "print(soup.prettify())"
   ]
  },
  {
   "cell_type": "code",
   "execution_count": 13,
   "id": "22950cad",
   "metadata": {},
   "outputs": [
    {
     "name": "stdout",
     "output_type": "stream",
     "text": [
      "<img alt=\"creator_image\" height=\"300\" src=\"https://upload.wikimedia.org/wikipedia/commons/d/d2/William_Hanna_1977.jpg\" width=\"300\"/>\n",
      "<img alt=\"creator_image\" height=\"300\" src=\"https://upload.wikimedia.org/wikipedia/commons/6/67/JBarbera.jpg\" width=\"300\"/>\n",
      "\n"
     ]
    }
   ],
   "source": [
    "alt_attr = SoupStrainer(alt = \"creator_image\")\n",
    "\n",
    "soup = BeautifulSoup(html_code, \"lxml\", parse_only = alt_attr)\n",
    "\n",
    "print(soup.prettify())"
   ]
  },
  {
   "cell_type": "code",
   "execution_count": 14,
   "id": "fb3ca970",
   "metadata": {},
   "outputs": [
    {
     "name": "stdout",
     "output_type": "stream",
     "text": [
      "<a class=\"creator\" href=\"https://en.wikipedia.org/wiki/William_Hanna\" id=\"link1\">\n",
      " William_Hanna\n",
      "</a>\n",
      "<a class=\"creator\" href=\"https://en.wikipedia.org/wiki/Joseph_Barbera\" id=\"link2\">\n",
      " Joseph Barbera\n",
      "</a>\n",
      "<a class=\"character\" href=\"https://en.wikipedia.org/wiki/Tom_Cat\" id=\"link3\">\n",
      " Tom\n",
      "</a>\n",
      "<a class=\"character\" href=\"https://en.wikipedia.org/wiki/Jerry_Mouse\" id=\"link4\">\n",
      " Jerry\n",
      "</a>\n"
     ]
    }
   ],
   "source": [
    "id_attr = SoupStrainer(id = re.compile(\"link\"))\n",
    "\n",
    "soup = BeautifulSoup(html_code, \"lxml\", parse_only = id_attr)\n",
    "\n",
    "print(soup.prettify())"
   ]
  },
  {
   "cell_type": "code",
   "execution_count": null,
   "id": "994f1419",
   "metadata": {},
   "outputs": [],
   "source": []
  }
 ],
 "metadata": {
  "kernelspec": {
   "display_name": "Python 3",
   "language": "python",
   "name": "python3"
  },
  "language_info": {
   "codemirror_mode": {
    "name": "ipython",
    "version": 3
   },
   "file_extension": ".py",
   "mimetype": "text/x-python",
   "name": "python",
   "nbconvert_exporter": "python",
   "pygments_lexer": "ipython3",
   "version": "3.8.8"
  }
 },
 "nbformat": 4,
 "nbformat_minor": 5
}
