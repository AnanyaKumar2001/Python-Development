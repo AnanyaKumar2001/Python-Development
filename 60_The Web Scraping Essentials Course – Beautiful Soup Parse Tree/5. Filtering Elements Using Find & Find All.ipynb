{
 "cells": [
  {
   "cell_type": "code",
   "execution_count": 1,
   "id": "bae805ed",
   "metadata": {},
   "outputs": [],
   "source": [
    "import re\n",
    "from bs4 import BeautifulSoup"
   ]
  },
  {
   "cell_type": "code",
   "execution_count": 2,
   "id": "ce69f47a",
   "metadata": {},
   "outputs": [],
   "source": [
    "with open(\"files/TomJerry_Story.html\") as html_code:\n",
    "    soup = BeautifulSoup(html_code, \"lxml\")"
   ]
  },
  {
   "cell_type": "code",
   "execution_count": 3,
   "id": "ab0f3095",
   "metadata": {},
   "outputs": [
    {
     "name": "stdout",
     "output_type": "stream",
     "text": [
      "<html>\n",
      " <head>\n",
      "  <title>\n",
      "   The story of Tom and Jerry\n",
      "  </title>\n",
      " </head>\n",
      " <body>\n",
      "  <p class=\"title\">\n",
      "   <b>\n",
      "    Tom and Jerry\n",
      "   </b>\n",
      "  </p>\n",
      "  <img alt=\"cartoon_image\" height=\"300\" src=\"TomAndJerry.jpg\" width=\"300\"/>\n",
      "  <p class=\"comedy animated series\">\n",
      "   Tom and Jerry is an American animated series of comedy short films created by\n",
      "   <a class=\"creator\" href=\"https://en.wikipedia.org/wiki/William_Hanna\" id=\"link1\">\n",
      "    William_Hanna\n",
      "   </a>\n",
      "   and\n",
      "   <a class=\"creator\" href=\"https://en.wikipedia.org/wiki/Joseph_Barbera\" id=\"link2\">\n",
      "    Joseph Barbera\n",
      "   </a>\n",
      "   . \n",
      "        It centers on a rivalry between the title characters\n",
      "   <a class=\"character\" href=\"https://en.wikipedia.org/wiki/Tom_Cat\" id=\"link3\">\n",
      "    Tom\n",
      "   </a>\n",
      "   , a cat, and\n",
      "   <a class=\"character\" href=\"https://en.wikipedia.org/wiki/Jerry_Mouse\" id=\"link4\">\n",
      "    Jerry\n",
      "   </a>\n",
      "   , a mouse.\n",
      "  </p>\n",
      "  <p class=\"comedy story\">\n",
      "   The series features comic fights between an iconic pair of adversaries, \n",
      "            a house cat (Tom) and a mouse (Jerry). The plots of each short usually center on Tom's \n",
      "            numerous attempts to capture Jerry and the mayhem and destruction that follows. \n",
      "            Tom rarely succeeds in catching Jerry, mainly because of Jerry's cleverness, \n",
      "            cunning abilities, and luck.\n",
      "  </p>\n",
      " </body>\n",
      "</html>\n"
     ]
    }
   ],
   "source": [
    "print(soup.prettify())"
   ]
  },
  {
   "cell_type": "code",
   "execution_count": 4,
   "id": "0ca7ff23",
   "metadata": {},
   "outputs": [
    {
     "data": {
      "text/plain": [
       "<p class=\"title\"><b>Tom and Jerry</b></p>"
      ]
     },
     "execution_count": 4,
     "metadata": {},
     "output_type": "execute_result"
    }
   ],
   "source": [
    "soup.p"
   ]
  },
  {
   "cell_type": "code",
   "execution_count": 5,
   "id": "74af5895",
   "metadata": {},
   "outputs": [
    {
     "data": {
      "text/plain": [
       "<p class=\"title\"><b>Tom and Jerry</b></p>"
      ]
     },
     "execution_count": 5,
     "metadata": {},
     "output_type": "execute_result"
    }
   ],
   "source": [
    "soup.find(\"p\")"
   ]
  },
  {
   "cell_type": "code",
   "execution_count": 6,
   "id": "1934e687",
   "metadata": {},
   "outputs": [
    {
     "data": {
      "text/plain": [
       "[<p class=\"title\"><b>Tom and Jerry</b></p>,\n",
       " <p class=\"comedy animated series\">\n",
       "         Tom and Jerry is an American animated series of comedy short films created by \n",
       "         <a class=\"creator\" href=\"https://en.wikipedia.org/wiki/William_Hanna\" id=\"link1\">William_Hanna</a> and  \n",
       "         <a class=\"creator\" href=\"https://en.wikipedia.org/wiki/Joseph_Barbera\" id=\"link2\">Joseph Barbera</a>. \n",
       "         It centers on a rivalry between the title characters\n",
       "         <a class=\"character\" href=\"https://en.wikipedia.org/wiki/Tom_Cat\" id=\"link3\">Tom</a>, a cat, and \n",
       "         <a class=\"character\" href=\"https://en.wikipedia.org/wiki/Jerry_Mouse\" id=\"link4\">Jerry</a>, a mouse.</p>,\n",
       " <p class=\"comedy story\">\n",
       "             The series features comic fights between an iconic pair of adversaries, \n",
       "             a house cat (Tom) and a mouse (Jerry). The plots of each short usually center on Tom's \n",
       "             numerous attempts to capture Jerry and the mayhem and destruction that follows. \n",
       "             Tom rarely succeeds in catching Jerry, mainly because of Jerry's cleverness, \n",
       "             cunning abilities, and luck. \n",
       "         </p>]"
      ]
     },
     "execution_count": 6,
     "metadata": {},
     "output_type": "execute_result"
    }
   ],
   "source": [
    "soup.findAll(\"p\")"
   ]
  },
  {
   "cell_type": "code",
   "execution_count": 7,
   "id": "dd7f15cc",
   "metadata": {},
   "outputs": [
    {
     "data": {
      "text/plain": [
       "<title> The story of Tom and Jerry </title>"
      ]
     },
     "execution_count": 7,
     "metadata": {},
     "output_type": "execute_result"
    }
   ],
   "source": [
    "soup.find(\"title\")"
   ]
  },
  {
   "cell_type": "code",
   "execution_count": 8,
   "id": "dcd264e4",
   "metadata": {},
   "outputs": [
    {
     "data": {
      "text/plain": [
       "[<title> The story of Tom and Jerry </title>]"
      ]
     },
     "execution_count": 8,
     "metadata": {},
     "output_type": "execute_result"
    }
   ],
   "source": [
    "soup.findAll(\"title\")"
   ]
  },
  {
   "cell_type": "code",
   "execution_count": 9,
   "id": "32417517",
   "metadata": {},
   "outputs": [
    {
     "name": "stdout",
     "output_type": "stream",
     "text": [
      "None\n"
     ]
    }
   ],
   "source": [
    "print(soup.find(\"span\"))"
   ]
  },
  {
   "cell_type": "code",
   "execution_count": 10,
   "id": "db5b2a1e",
   "metadata": {},
   "outputs": [
    {
     "data": {
      "text/plain": [
       "[<img alt=\"cartoon_image\" height=\"300\" src=\"TomAndJerry.jpg\" width=\"300\"/>]"
      ]
     },
     "execution_count": 10,
     "metadata": {},
     "output_type": "execute_result"
    }
   ],
   "source": [
    "soup.findAll(src = \"TomAndJerry.jpg\")"
   ]
  },
  {
   "cell_type": "code",
   "execution_count": 11,
   "id": "fddad9f7",
   "metadata": {},
   "outputs": [
    {
     "data": {
      "text/plain": [
       "<a class=\"creator\" href=\"https://en.wikipedia.org/wiki/William_Hanna\" id=\"link1\">William_Hanna</a>"
      ]
     },
     "execution_count": 11,
     "metadata": {},
     "output_type": "execute_result"
    }
   ],
   "source": [
    "soup.find(re.compile(\"^a\"))"
   ]
  },
  {
   "cell_type": "code",
   "execution_count": 12,
   "id": "7ed7c6bb",
   "metadata": {},
   "outputs": [
    {
     "name": "stdout",
     "output_type": "stream",
     "text": [
      "<a class=\"creator\" href=\"https://en.wikipedia.org/wiki/William_Hanna\" id=\"link1\">William_Hanna</a>\n",
      "<a class=\"creator\" href=\"https://en.wikipedia.org/wiki/Joseph_Barbera\" id=\"link2\">Joseph Barbera</a>\n",
      "<a class=\"character\" href=\"https://en.wikipedia.org/wiki/Tom_Cat\" id=\"link3\">Tom</a>\n",
      "<a class=\"character\" href=\"https://en.wikipedia.org/wiki/Jerry_Mouse\" id=\"link4\">Jerry</a>\n"
     ]
    }
   ],
   "source": [
    "for tag in soup.findAll(re.compile(\"^a\")):\n",
    "    print(tag)"
   ]
  },
  {
   "cell_type": "code",
   "execution_count": 13,
   "id": "c405e599",
   "metadata": {},
   "outputs": [
    {
     "name": "stdout",
     "output_type": "stream",
     "text": [
      "a\n",
      "a\n",
      "a\n",
      "a\n"
     ]
    }
   ],
   "source": [
    "for tag in soup.findAll(re.compile(\"^a\")):\n",
    "    print(tag.name)"
   ]
  },
  {
   "cell_type": "code",
   "execution_count": 14,
   "id": "73f922fa",
   "metadata": {},
   "outputs": [
    {
     "data": {
      "text/plain": [
       "<a class=\"creator\" href=\"https://en.wikipedia.org/wiki/William_Hanna\" id=\"link1\">William_Hanna</a>"
      ]
     },
     "execution_count": 14,
     "metadata": {},
     "output_type": "execute_result"
    }
   ],
   "source": [
    "soup.find(\"a\", attrs = {\"class\": re.compile(\"^cre\")})"
   ]
  },
  {
   "cell_type": "code",
   "execution_count": 15,
   "id": "bed4ca7c",
   "metadata": {},
   "outputs": [
    {
     "name": "stdout",
     "output_type": "stream",
     "text": [
      "<a class=\"creator\" href=\"https://en.wikipedia.org/wiki/William_Hanna\" id=\"link1\">William_Hanna</a>\n",
      "<a class=\"creator\" href=\"https://en.wikipedia.org/wiki/Joseph_Barbera\" id=\"link2\">Joseph Barbera</a>\n"
     ]
    }
   ],
   "source": [
    "for item in soup.findAll(\"a\", attrs = {\"class\": re.compile(\"^cre\")}):\n",
    "    print(item)"
   ]
  },
  {
   "cell_type": "code",
   "execution_count": 16,
   "id": "a949d7af",
   "metadata": {},
   "outputs": [
    {
     "name": "stdout",
     "output_type": "stream",
     "text": [
      "<a class=\"creator\" href=\"https://en.wikipedia.org/wiki/William_Hanna\" id=\"link1\">William_Hanna</a>\n",
      "<a class=\"creator\" href=\"https://en.wikipedia.org/wiki/Joseph_Barbera\" id=\"link2\">Joseph Barbera</a>\n",
      "<a class=\"character\" href=\"https://en.wikipedia.org/wiki/Tom_Cat\" id=\"link3\">Tom</a>\n",
      "<a class=\"character\" href=\"https://en.wikipedia.org/wiki/Jerry_Mouse\" id=\"link4\">Jerry</a>\n"
     ]
    }
   ],
   "source": [
    "for item in soup.findAll(\"a\", attrs = {\"class\": re.compile(\"r\")}):\n",
    "    print(item)"
   ]
  },
  {
   "cell_type": "code",
   "execution_count": 17,
   "id": "c2d78fc8",
   "metadata": {},
   "outputs": [
    {
     "name": "stdout",
     "output_type": "stream",
     "text": [
      "<title> The story of Tom and Jerry </title>\n",
      "<img alt=\"cartoon_image\" height=\"300\" src=\"TomAndJerry.jpg\" width=\"300\"/>\n"
     ]
    }
   ],
   "source": [
    "for tag in soup.findAll(re.compile(\"i\")):\n",
    "    print(tag)"
   ]
  },
  {
   "cell_type": "code",
   "execution_count": 18,
   "id": "aa8c7c01",
   "metadata": {},
   "outputs": [
    {
     "name": "stdout",
     "output_type": "stream",
     "text": [
      "title\n",
      "img\n"
     ]
    }
   ],
   "source": [
    "for tag in soup.findAll(re.compile(\"i\")):\n",
    "    print(tag.name)"
   ]
  },
  {
   "cell_type": "code",
   "execution_count": 19,
   "id": "b369bc74",
   "metadata": {},
   "outputs": [
    {
     "name": "stdout",
     "output_type": "stream",
     "text": [
      "<a class=\"creator\" href=\"https://en.wikipedia.org/wiki/Joseph_Barbera\" id=\"link2\">Joseph Barbera</a>\n"
     ]
    }
   ],
   "source": [
    "for tag in soup.findAll(id = re.compile(\"2\")):\n",
    "    print(tag)"
   ]
  },
  {
   "cell_type": "code",
   "execution_count": 20,
   "id": "cd5fa03d",
   "metadata": {},
   "outputs": [
    {
     "name": "stdout",
     "output_type": "stream",
     "text": [
      "<a class=\"creator\" href=\"https://en.wikipedia.org/wiki/William_Hanna\" id=\"link1\">William_Hanna</a>\n",
      "<a class=\"creator\" href=\"https://en.wikipedia.org/wiki/Joseph_Barbera\" id=\"link2\">Joseph Barbera</a>\n",
      "<a class=\"character\" href=\"https://en.wikipedia.org/wiki/Tom_Cat\" id=\"link3\">Tom</a>\n",
      "<a class=\"character\" href=\"https://en.wikipedia.org/wiki/Jerry_Mouse\" id=\"link4\">Jerry</a>\n"
     ]
    }
   ],
   "source": [
    "for tag in soup.findAll(id = re.compile(\"link\")):\n",
    "    print(tag)"
   ]
  },
  {
   "cell_type": "code",
   "execution_count": 21,
   "id": "81c10979",
   "metadata": {},
   "outputs": [
    {
     "name": "stdout",
     "output_type": "stream",
     "text": [
      "<a class=\"creator\" href=\"https://en.wikipedia.org/wiki/William_Hanna\" id=\"link1\">William_Hanna</a>\n",
      "<a class=\"creator\" href=\"https://en.wikipedia.org/wiki/Joseph_Barbera\" id=\"link2\">Joseph Barbera</a>\n",
      "<a class=\"character\" href=\"https://en.wikipedia.org/wiki/Tom_Cat\" id=\"link3\">Tom</a>\n",
      "<a class=\"character\" href=\"https://en.wikipedia.org/wiki/Jerry_Mouse\" id=\"link4\">Jerry</a>\n"
     ]
    }
   ],
   "source": [
    "for tag in soup.findAll(href = re.compile(\"wikipedia\")):\n",
    "    print(tag)"
   ]
  },
  {
   "cell_type": "code",
   "execution_count": null,
   "id": "12dfda0b",
   "metadata": {},
   "outputs": [],
   "source": []
  }
 ],
 "metadata": {
  "kernelspec": {
   "display_name": "Python 3",
   "language": "python",
   "name": "python3"
  },
  "language_info": {
   "codemirror_mode": {
    "name": "ipython",
    "version": 3
   },
   "file_extension": ".py",
   "mimetype": "text/x-python",
   "name": "python",
   "nbconvert_exporter": "python",
   "pygments_lexer": "ipython3",
   "version": "3.8.8"
  }
 },
 "nbformat": 4,
 "nbformat_minor": 5
}
