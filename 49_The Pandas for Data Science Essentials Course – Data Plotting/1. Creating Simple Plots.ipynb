{
 "cells": [
  {
   "cell_type": "code",
   "execution_count": 1,
   "id": "efc9e2c7",
   "metadata": {},
   "outputs": [],
   "source": [
    "import pandas as pd\n",
    "import os\n",
    "\n",
    "df = pd.read_pickle(os.path.join(\"DataFrame.pickle\"))"
   ]
  },
  {
   "cell_type": "code",
   "execution_count": 2,
   "id": "ce72228d",
   "metadata": {},
   "outputs": [
    {
     "data": {
      "text/plain": [
       "acquisitionYear\n",
       "1823.0       1\n",
       "1824.0       2\n",
       "1826.0       4\n",
       "1827.0       1\n",
       "1828.0       3\n",
       "          ... \n",
       "2009.0    1364\n",
       "2010.0     392\n",
       "2011.0     320\n",
       "2012.0     514\n",
       "2013.0     458\n",
       "Length: 178, dtype: int64"
      ]
     },
     "execution_count": 2,
     "metadata": {},
     "output_type": "execute_result"
    }
   ],
   "source": [
    "acquisition_years = df.groupby(\"acquisitionYear\").size()\n",
    "acquisition_years"
   ]
  },
  {
   "cell_type": "code",
   "execution_count": 3,
   "id": "07abe688",
   "metadata": {},
   "outputs": [
    {
     "data": {
      "text/plain": [
       "<AxesSubplot:xlabel='acquisitionYear'>"
      ]
     },
     "execution_count": 3,
     "metadata": {},
     "output_type": "execute_result"
    },
    {
     "data": {
      "image/png": "[encoded data removed]",
      "text/plain": [
       "<Figure size 432x288 with 1 Axes>"
      ]
     },
     "metadata": {
      "needs_background": "light"
     },
     "output_type": "display_data"
    }
   ],
   "source": [
    "acquisition_years.plot()"
   ]
  },
  {
   "cell_type": "code",
   "execution_count": null,
   "id": "e4141a23",
   "metadata": {},
   "outputs": [],
   "source": []
  }
 ],
 "metadata": {
  "kernelspec": {
   "display_name": "Python 3",
   "language": "python",
   "name": "python3"
  },
  "language_info": {
   "codemirror_mode": {
    "name": "ipython",
    "version": 3
   },
   "file_extension": ".py",
   "mimetype": "text/x-python",
   "name": "python",
   "nbconvert_exporter": "python",
   "pygments_lexer": "ipython3",
   "version": "3.8.8"
  }
 },
 "nbformat": 4,
 "nbformat_minor": 5
}
