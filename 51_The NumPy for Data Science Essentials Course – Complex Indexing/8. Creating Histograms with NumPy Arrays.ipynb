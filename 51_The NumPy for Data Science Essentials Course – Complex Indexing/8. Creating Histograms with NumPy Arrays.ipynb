{
 "cells": [
  {
   "cell_type": "code",
   "execution_count": 1,
   "id": "c76336cf",
   "metadata": {},
   "outputs": [],
   "source": [
    "import numpy as np\n",
    "import matplotlib.pyplot as plt"
   ]
  },
  {
   "cell_type": "code",
   "execution_count": 2,
   "id": "fcb3d36a",
   "metadata": {},
   "outputs": [
    {
     "data": {
      "text/plain": [
       "(array([0, 2, 1], dtype=int64), array([0, 1, 2, 3]))"
      ]
     },
     "execution_count": 2,
     "metadata": {},
     "output_type": "execute_result"
    }
   ],
   "source": [
    "np.histogram([1, 2, 1], bins=[0, 1, 2, 3])"
   ]
  },
  {
   "cell_type": "code",
   "execution_count": 3,
   "id": "ab555526",
   "metadata": {},
   "outputs": [],
   "source": [
    "mu, sigma = 2, 0.5\n",
    "data = np.random.normal(mu, sigma, 10000)"
   ]
  },
  {
   "cell_type": "code",
   "execution_count": 4,
   "id": "5c6a182e",
   "metadata": {},
   "outputs": [
    {
     "data": {
      "text/plain": [
       "array([1.89095651, 2.11359077, 1.89996818, ..., 1.49468509, 2.03721263,\n",
       "       1.74174834])"
      ]
     },
     "execution_count": 4,
     "metadata": {},
     "output_type": "execute_result"
    }
   ],
   "source": [
    "data"
   ]
  },
  {
   "cell_type": "code",
   "execution_count": 5,
   "id": "bef25318",
   "metadata": {},
   "outputs": [],
   "source": [
    "(n, bin_edges) = np.histogram(data, bins=50)"
   ]
  },
  {
   "cell_type": "code",
   "execution_count": 6,
   "id": "0c7ef60b",
   "metadata": {},
   "outputs": [
    {
     "data": {
      "text/plain": [
       "array([  1,   1,   2,   3,   2,  11,  12,  21,  28,  33,  62,  94, 119,\n",
       "       144, 183, 226, 290, 368, 444, 503, 518, 565, 607, 659, 667, 679,\n",
       "       566, 562, 515, 455, 378, 291, 268, 180, 165, 112,  83,  46,  46,\n",
       "        38,  21,  13,   8,   7,   3,   0,   0,   0,   0,   1], dtype=int64)"
      ]
     },
     "execution_count": 6,
     "metadata": {},
     "output_type": "execute_result"
    }
   ],
   "source": [
    "n"
   ]
  },
  {
   "cell_type": "code",
   "execution_count": 7,
   "id": "e601cf2c",
   "metadata": {},
   "outputs": [
    {
     "data": {
      "text/plain": [
       "array([0.05963744, 0.14043522, 0.221233  , 0.30203077, 0.38282855,\n",
       "       0.46362632, 0.5444241 , 0.62522188, 0.70601965, 0.78681743,\n",
       "       0.86761521, 0.94841298, 1.02921076, 1.11000854, 1.19080631,\n",
       "       1.27160409, 1.35240187, 1.43319964, 1.51399742, 1.5947952 ,\n",
       "       1.67559297, 1.75639075, 1.83718853, 1.9179863 , 1.99878408,\n",
       "       2.07958186, 2.16037963, 2.24117741, 2.32197519, 2.40277296,\n",
       "       2.48357074, 2.56436852, 2.64516629, 2.72596407, 2.80676185,\n",
       "       2.88755962, 2.9683574 , 3.04915517, 3.12995295, 3.21075073,\n",
       "       3.2915485 , 3.37234628, 3.45314406, 3.53394183, 3.61473961,\n",
       "       3.69553739, 3.77633516, 3.85713294, 3.93793072, 4.01872849,\n",
       "       4.09952627])"
      ]
     },
     "execution_count": 7,
     "metadata": {},
     "output_type": "execute_result"
    }
   ],
   "source": [
    "bin_edges"
   ]
  },
  {
   "cell_type": "code",
   "execution_count": 8,
   "id": "65ef6165",
   "metadata": {},
   "outputs": [
    {
     "data": {
      "image/png": "[encoded data removed]",
      "text/plain": [
       "<Figure size 432x288 with 1 Axes>"
      ]
     },
     "metadata": {
      "needs_background": "light"
     },
     "output_type": "display_data"
    }
   ],
   "source": [
    "plt.plot(bin_edges[1:], n)\n",
    "plt.show()"
   ]
  },
  {
   "cell_type": "code",
   "execution_count": null,
   "id": "0ec25f25",
   "metadata": {},
   "outputs": [],
   "source": []
  }
 ],
 "metadata": {
  "kernelspec": {
   "display_name": "Python 3",
   "language": "python",
   "name": "python3"
  },
  "language_info": {
   "codemirror_mode": {
    "name": "ipython",
    "version": 3
   },
   "file_extension": ".py",
   "mimetype": "text/x-python",
   "name": "python",
   "nbconvert_exporter": "python",
   "pygments_lexer": "ipython3",
   "version": "3.8.8"
  }
 },
 "nbformat": 4,
 "nbformat_minor": 5
}
