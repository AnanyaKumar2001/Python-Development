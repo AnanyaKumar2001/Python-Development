{
 "cells": [
  {
   "cell_type": "code",
   "execution_count": 3,
   "id": "df57f721",
   "metadata": {},
   "outputs": [],
   "source": [
    "import numpy as np"
   ]
  },
  {
   "cell_type": "code",
   "execution_count": 4,
   "id": "04df8b34",
   "metadata": {},
   "outputs": [
    {
     "data": {
      "text/plain": [
       "array([  0,   1,   4,   9,  16,  25,  36,  49,  64,  81, 100, 121],\n",
       "      dtype=int32)"
      ]
     },
     "execution_count": 4,
     "metadata": {},
     "output_type": "execute_result"
    }
   ],
   "source": [
    "a = np.arange(12)**2\n",
    "a"
   ]
  },
  {
   "cell_type": "code",
   "execution_count": 5,
   "id": "cb4e7ab0",
   "metadata": {},
   "outputs": [
    {
     "data": {
      "text/plain": [
       "(4, 36, 64)"
      ]
     },
     "execution_count": 5,
     "metadata": {},
     "output_type": "execute_result"
    }
   ],
   "source": [
    "a[2], a[6], a[8]"
   ]
  },
  {
   "cell_type": "code",
   "execution_count": 6,
   "id": "c5db8238",
   "metadata": {},
   "outputs": [
    {
     "data": {
      "text/plain": [
       "array([ 4, 36, 64], dtype=int32)"
      ]
     },
     "execution_count": 6,
     "metadata": {},
     "output_type": "execute_result"
    }
   ],
   "source": [
    "index_1 = [2, 6, 8]\n",
    "\n",
    "a[index_1]"
   ]
  },
  {
   "cell_type": "code",
   "execution_count": 7,
   "id": "bfa23221",
   "metadata": {},
   "outputs": [
    {
     "data": {
      "text/plain": [
       "array([[ 2,  4],\n",
       "       [ 8, 10]])"
      ]
     },
     "execution_count": 7,
     "metadata": {},
     "output_type": "execute_result"
    }
   ],
   "source": [
    "index_2 = np.array([[2, 4], [8, 10]])\n",
    "index_2"
   ]
  },
  {
   "cell_type": "code",
   "execution_count": 8,
   "id": "7247df6c",
   "metadata": {},
   "outputs": [
    {
     "data": {
      "text/plain": [
       "array([[  4,  16],\n",
       "       [ 64, 100]], dtype=int32)"
      ]
     },
     "execution_count": 8,
     "metadata": {},
     "output_type": "execute_result"
    }
   ],
   "source": [
    "a[index_2]"
   ]
  },
  {
   "cell_type": "code",
   "execution_count": 17,
   "id": "d3dc2ee3",
   "metadata": {},
   "outputs": [
    {
     "data": {
      "text/plain": [
       "array([['diary', 'bottle', 'water', 'packet'],\n",
       "       ['glasses', 'watch', 'sweet', 'photo'],\n",
       "       ['camera', 'stamp', 'pencil', 'lighter']], dtype='<U7')"
      ]
     },
     "execution_count": 17,
     "metadata": {},
     "output_type": "execute_result"
    }
   ],
   "source": [
    "objects = np.array([[\"diary\", \"bottle\", \"water\", \"packet\"],\n",
    "                    [\"glasses\", \"watch\", \"sweet\", \"photo\"],\n",
    "                    [\"camera\", \"stamp\", \"pencil\", \"lighter\"]])\n",
    "objects"
   ]
  },
  {
   "cell_type": "code",
   "execution_count": 59,
   "id": "f0c5bf2d",
   "metadata": {},
   "outputs": [],
   "source": [
    "row = np.array([[0, 0], [2, 2]])\n",
    "col = np.array([[0, 3], [0, 3]])"
   ]
  },
  {
   "cell_type": "code",
   "execution_count": 60,
   "id": "5cb43ddd",
   "metadata": {},
   "outputs": [
    {
     "data": {
      "text/plain": [
       "'lighter'"
      ]
     },
     "execution_count": 60,
     "metadata": {},
     "output_type": "execute_result"
    }
   ],
   "source": [
    "objects[2, 3]"
   ]
  },
  {
   "cell_type": "code",
   "execution_count": 61,
   "id": "de708aac",
   "metadata": {},
   "outputs": [
    {
     "data": {
      "text/plain": [
       "array([['diary', 'packet'],\n",
       "       ['camera', 'lighter']], dtype='<U7')"
      ]
     },
     "execution_count": 61,
     "metadata": {},
     "output_type": "execute_result"
    }
   ],
   "source": [
    "objects[row, col]"
   ]
  },
  {
   "cell_type": "code",
   "execution_count": 64,
   "id": "0dcf5121",
   "metadata": {},
   "outputs": [],
   "source": [
    "objects[row, col] = '000000'"
   ]
  },
  {
   "cell_type": "code",
   "execution_count": 65,
   "id": "0b942c24",
   "metadata": {},
   "outputs": [
    {
     "data": {
      "text/plain": [
       "array([['000000', 'bottle', 'water', '000000'],\n",
       "       ['glasses', 'watch', 'sweet', 'photo'],\n",
       "       ['000000', 'stamp', 'pencil', '000000']], dtype='<U7')"
      ]
     },
     "execution_count": 65,
     "metadata": {},
     "output_type": "execute_result"
    }
   ],
   "source": [
    "objects"
   ]
  },
  {
   "cell_type": "code",
   "execution_count": 66,
   "id": "aa98a779",
   "metadata": {},
   "outputs": [],
   "source": [
    "a[index_1] = 555"
   ]
  },
  {
   "cell_type": "code",
   "execution_count": 67,
   "id": "a2709574",
   "metadata": {},
   "outputs": [
    {
     "data": {
      "text/plain": [
       "array([  0,   1, 555,   9,  16,  25, 555,  49, 555,  81, 100, 121],\n",
       "      dtype=int32)"
      ]
     },
     "execution_count": 67,
     "metadata": {},
     "output_type": "execute_result"
    }
   ],
   "source": [
    "a"
   ]
  },
  {
   "cell_type": "code",
   "execution_count": null,
   "id": "48f6ee79",
   "metadata": {},
   "outputs": [],
   "source": []
  }
 ],
 "metadata": {
  "kernelspec": {
   "display_name": "Python 3",
   "language": "python",
   "name": "python3"
  },
  "language_info": {
   "codemirror_mode": {
    "name": "ipython",
    "version": 3
   },
   "file_extension": ".py",
   "mimetype": "text/x-python",
   "name": "python",
   "nbconvert_exporter": "python",
   "pygments_lexer": "ipython3",
   "version": "3.8.8"
  }
 },
 "nbformat": 4,
 "nbformat_minor": 5
}
