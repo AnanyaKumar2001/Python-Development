{
 "cells": [
  {
   "cell_type": "code",
   "execution_count": 1,
   "id": "c5af733a",
   "metadata": {},
   "outputs": [],
   "source": [
    "import numpy as np"
   ]
  },
  {
   "cell_type": "code",
   "execution_count": 2,
   "id": "c28d5ea9",
   "metadata": {},
   "outputs": [],
   "source": [
    "name = [\"Alucard\", \"Sypha\", \"Belmont\", \"Vlad\"]\n",
    "student_id = [111, 222, 333, 444]\n",
    "score = [91.24, 98.56, 99.89, 74.47]"
   ]
  },
  {
   "cell_type": "code",
   "execution_count": 3,
   "id": "9ab75f5f",
   "metadata": {},
   "outputs": [],
   "source": [
    "students_data = np.zeros(4, dtype={\"names\": (\"name\", \"student_id\", \"score\"),\n",
    "                                   \"formats\": (\"U10\", \"i4\", \"f8\")})"
   ]
  },
  {
   "cell_type": "code",
   "execution_count": 4,
   "id": "84374a96",
   "metadata": {},
   "outputs": [
    {
     "data": {
      "text/plain": [
       "array([('', 0, 0.), ('', 0, 0.), ('', 0, 0.), ('', 0, 0.)],\n",
       "      dtype=[('name', '<U10'), ('student_id', '<i4'), ('score', '<f8')])"
      ]
     },
     "execution_count": 4,
     "metadata": {},
     "output_type": "execute_result"
    }
   ],
   "source": [
    "students_data"
   ]
  },
  {
   "cell_type": "code",
   "execution_count": 6,
   "id": "791ad044",
   "metadata": {},
   "outputs": [],
   "source": [
    "students_data['name'] = name\n",
    "students_data['student_id'] = student_id\n",
    "students_data['score'] = score"
   ]
  },
  {
   "cell_type": "code",
   "execution_count": 7,
   "id": "987d5ac6",
   "metadata": {},
   "outputs": [
    {
     "name": "stdout",
     "output_type": "stream",
     "text": [
      "[('Alucard', 111, 91.24) ('Sypha', 222, 98.56) ('Belmont', 333, 99.89)\n",
      " ('Vlad', 444, 74.47)]\n"
     ]
    }
   ],
   "source": [
    "print(students_data)"
   ]
  },
  {
   "cell_type": "code",
   "execution_count": 8,
   "id": "47ec9614",
   "metadata": {},
   "outputs": [
    {
     "data": {
      "text/plain": [
       "array(['Alucard', 'Sypha', 'Belmont', 'Vlad'], dtype='<U10')"
      ]
     },
     "execution_count": 8,
     "metadata": {},
     "output_type": "execute_result"
    }
   ],
   "source": [
    "students_data['name']"
   ]
  },
  {
   "cell_type": "code",
   "execution_count": 9,
   "id": "a7632720",
   "metadata": {},
   "outputs": [
    {
     "data": {
      "text/plain": [
       "array([91.24, 98.56, 99.89, 74.47])"
      ]
     },
     "execution_count": 9,
     "metadata": {},
     "output_type": "execute_result"
    }
   ],
   "source": [
    "students_data['score']"
   ]
  },
  {
   "cell_type": "code",
   "execution_count": 10,
   "id": "707640e5",
   "metadata": {},
   "outputs": [
    {
     "data": {
      "text/plain": [
       "array([111, 222, 333, 444])"
      ]
     },
     "execution_count": 10,
     "metadata": {},
     "output_type": "execute_result"
    }
   ],
   "source": [
    "students_data['student_id']"
   ]
  },
  {
   "cell_type": "code",
   "execution_count": 11,
   "id": "6af8f587",
   "metadata": {},
   "outputs": [
    {
     "data": {
      "text/plain": [
       "('Sypha', 222, 98.56)"
      ]
     },
     "execution_count": 11,
     "metadata": {},
     "output_type": "execute_result"
    }
   ],
   "source": [
    "students_data[1]"
   ]
  },
  {
   "cell_type": "code",
   "execution_count": 12,
   "id": "b377262b",
   "metadata": {},
   "outputs": [
    {
     "data": {
      "text/plain": [
       "('Vlad', 444, 74.47)"
      ]
     },
     "execution_count": 12,
     "metadata": {},
     "output_type": "execute_result"
    }
   ],
   "source": [
    "students_data[3]"
   ]
  },
  {
   "cell_type": "code",
   "execution_count": 13,
   "id": "2096b233",
   "metadata": {},
   "outputs": [
    {
     "data": {
      "text/plain": [
       "'Alucard'"
      ]
     },
     "execution_count": 13,
     "metadata": {},
     "output_type": "execute_result"
    }
   ],
   "source": [
    "students_data[0]['name']"
   ]
  },
  {
   "cell_type": "code",
   "execution_count": 14,
   "id": "19c93813",
   "metadata": {},
   "outputs": [
    {
     "data": {
      "text/plain": [
       "99.89"
      ]
     },
     "execution_count": 14,
     "metadata": {},
     "output_type": "execute_result"
    }
   ],
   "source": [
    "students_data[2]['score']"
   ]
  },
  {
   "cell_type": "code",
   "execution_count": 15,
   "id": "2fc25993",
   "metadata": {},
   "outputs": [
    {
     "data": {
      "text/plain": [
       "array(['Alucard', 'Sypha', 'Belmont'], dtype='<U10')"
      ]
     },
     "execution_count": 15,
     "metadata": {},
     "output_type": "execute_result"
    }
   ],
   "source": [
    "students_data[students_data['score'] > 85]['name']"
   ]
  },
  {
   "cell_type": "code",
   "execution_count": null,
   "id": "97133bb0",
   "metadata": {},
   "outputs": [],
   "source": []
  }
 ],
 "metadata": {
  "kernelspec": {
   "display_name": "Python 3",
   "language": "python",
   "name": "python3"
  },
  "language_info": {
   "codemirror_mode": {
    "name": "ipython",
    "version": 3
   },
   "file_extension": ".py",
   "mimetype": "text/x-python",
   "name": "python",
   "nbconvert_exporter": "python",
   "pygments_lexer": "ipython3",
   "version": "3.8.8"
  }
 },
 "nbformat": 4,
 "nbformat_minor": 5
}
