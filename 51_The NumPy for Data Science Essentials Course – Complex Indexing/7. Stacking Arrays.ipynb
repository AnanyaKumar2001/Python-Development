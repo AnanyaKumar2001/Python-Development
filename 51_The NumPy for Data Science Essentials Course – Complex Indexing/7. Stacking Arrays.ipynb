{
 "cells": [
  {
   "cell_type": "code",
   "execution_count": 1,
   "id": "74040f00",
   "metadata": {},
   "outputs": [],
   "source": [
    "import numpy as np"
   ]
  },
  {
   "cell_type": "code",
   "execution_count": 2,
   "id": "cec2efd9",
   "metadata": {},
   "outputs": [],
   "source": [
    "x = np.array([[\"Japan\", \"India\"], ['Tokyo', \"New Delhi\"]])\n",
    "y = np.array([['Afghanistan', \"UK\"], [\"Kabul\", \"London\"]])"
   ]
  },
  {
   "cell_type": "code",
   "execution_count": 3,
   "id": "40ad2960",
   "metadata": {},
   "outputs": [
    {
     "name": "stdout",
     "output_type": "stream",
     "text": [
      "[['Japan' 'India']\n",
      " ['Tokyo' 'New Delhi']]\n",
      "(2, 2)\n"
     ]
    }
   ],
   "source": [
    "print(x)\n",
    "print(x.shape)"
   ]
  },
  {
   "cell_type": "code",
   "execution_count": 4,
   "id": "d5066111",
   "metadata": {},
   "outputs": [
    {
     "name": "stdout",
     "output_type": "stream",
     "text": [
      "[['Afghanistan' 'UK']\n",
      " ['Kabul' 'London']]\n",
      "(2, 2)\n"
     ]
    }
   ],
   "source": [
    "print(y)\n",
    "print(y.shape)"
   ]
  },
  {
   "cell_type": "code",
   "execution_count": 5,
   "id": "89b40a4f",
   "metadata": {},
   "outputs": [
    {
     "name": "stdout",
     "output_type": "stream",
     "text": [
      "Joining two array along axis 0\n"
     ]
    },
    {
     "data": {
      "text/plain": [
       "array([['Japan', 'India'],\n",
       "       ['Tokyo', 'New Delhi'],\n",
       "       ['Afghanistan', 'UK'],\n",
       "       ['Kabul', 'London']], dtype='<U11')"
      ]
     },
     "execution_count": 5,
     "metadata": {},
     "output_type": "execute_result"
    }
   ],
   "source": [
    "print(\"Joining two array along axis 0\")\n",
    "np.concatenate((x, y))"
   ]
  },
  {
   "cell_type": "code",
   "execution_count": 6,
   "id": "1941f797",
   "metadata": {},
   "outputs": [
    {
     "name": "stdout",
     "output_type": "stream",
     "text": [
      "Joining two array along axis 1\n"
     ]
    },
    {
     "data": {
      "text/plain": [
       "array([['Japan', 'India', 'Afghanistan', 'UK'],\n",
       "       ['Tokyo', 'New Delhi', 'Kabul', 'London']], dtype='<U11')"
      ]
     },
     "execution_count": 6,
     "metadata": {},
     "output_type": "execute_result"
    }
   ],
   "source": [
    "print(\"Joining two array along axis 1\")\n",
    "np.concatenate((x, y), axis=1)"
   ]
  },
  {
   "cell_type": "code",
   "execution_count": 7,
   "id": "00b13893",
   "metadata": {},
   "outputs": [],
   "source": [
    "a = np.array([1, 2, 3])\n",
    "b = np.array([2, 3, 4])"
   ]
  },
  {
   "cell_type": "code",
   "execution_count": 8,
   "id": "55c17d49",
   "metadata": {},
   "outputs": [
    {
     "data": {
      "text/plain": [
       "array([[1, 2, 3],\n",
       "       [2, 3, 4]])"
      ]
     },
     "execution_count": 8,
     "metadata": {},
     "output_type": "execute_result"
    }
   ],
   "source": [
    "np.stack((a, b))"
   ]
  },
  {
   "cell_type": "code",
   "execution_count": 9,
   "id": "a800c187",
   "metadata": {},
   "outputs": [
    {
     "data": {
      "text/plain": [
       "array([[1, 2],\n",
       "       [2, 3],\n",
       "       [3, 4]])"
      ]
     },
     "execution_count": 9,
     "metadata": {},
     "output_type": "execute_result"
    }
   ],
   "source": [
    "np.stack((a, b), axis=1)"
   ]
  },
  {
   "cell_type": "code",
   "execution_count": 10,
   "id": "9c2a0cc3",
   "metadata": {},
   "outputs": [],
   "source": [
    "name = [\"Alucard\", \"Sypha\", \"Belmont\", \"Vlad\"]\n",
    "student_id = [111, 222, 333, 444]\n",
    "score = [91.24, 98.56, 99.89, 74.47]"
   ]
  },
  {
   "cell_type": "code",
   "execution_count": 11,
   "id": "270d1ede",
   "metadata": {},
   "outputs": [
    {
     "data": {
      "text/plain": [
       "array([['111', '222', '333', '444'],\n",
       "       ['Alucard', 'Sypha', 'Belmont', 'Vlad'],\n",
       "       ['91.24', '98.56', '99.89', '74.47']], dtype='<U32')"
      ]
     },
     "execution_count": 11,
     "metadata": {},
     "output_type": "execute_result"
    }
   ],
   "source": [
    "np.stack((student_id, name, score))"
   ]
  },
  {
   "cell_type": "code",
   "execution_count": 12,
   "id": "fdf473df",
   "metadata": {},
   "outputs": [
    {
     "data": {
      "text/plain": [
       "(3, 4)"
      ]
     },
     "execution_count": 12,
     "metadata": {},
     "output_type": "execute_result"
    }
   ],
   "source": [
    "np.stack((student_id, name, score)).shape"
   ]
  },
  {
   "cell_type": "code",
   "execution_count": 13,
   "id": "39266893",
   "metadata": {},
   "outputs": [
    {
     "data": {
      "text/plain": [
       "array([['111', 'Alucard', '91.24'],\n",
       "       ['222', 'Sypha', '98.56'],\n",
       "       ['333', 'Belmont', '99.89'],\n",
       "       ['444', 'Vlad', '74.47']], dtype='<U32')"
      ]
     },
     "execution_count": 13,
     "metadata": {},
     "output_type": "execute_result"
    }
   ],
   "source": [
    "np.stack((student_id, name, score), axis=1)"
   ]
  },
  {
   "cell_type": "code",
   "execution_count": 14,
   "id": "c12c95c8",
   "metadata": {},
   "outputs": [
    {
     "data": {
      "text/plain": [
       "(4, 3)"
      ]
     },
     "execution_count": 14,
     "metadata": {},
     "output_type": "execute_result"
    }
   ],
   "source": [
    "np.stack((student_id, name, score), axis=1).shape"
   ]
  },
  {
   "cell_type": "code",
   "execution_count": 15,
   "id": "8ba11e0f",
   "metadata": {},
   "outputs": [
    {
     "data": {
      "text/plain": [
       "array([['111', '222', '333', '444'],\n",
       "       ['Alucard', 'Sypha', 'Belmont', 'Vlad'],\n",
       "       ['91.24', '98.56', '99.89', '74.47']], dtype='<U32')"
      ]
     },
     "execution_count": 15,
     "metadata": {},
     "output_type": "execute_result"
    }
   ],
   "source": [
    "np.vstack((student_id, name, score))"
   ]
  },
  {
   "cell_type": "code",
   "execution_count": 16,
   "id": "9688459e",
   "metadata": {},
   "outputs": [
    {
     "data": {
      "text/plain": [
       "array(['111', '222', '333', '444', 'Alucard', 'Sypha', 'Belmont', 'Vlad',\n",
       "       '91.24', '98.56', '99.89', '74.47'], dtype='<U32')"
      ]
     },
     "execution_count": 16,
     "metadata": {},
     "output_type": "execute_result"
    }
   ],
   "source": [
    "np.hstack((student_id, name, score))"
   ]
  },
  {
   "cell_type": "code",
   "execution_count": null,
   "id": "fd41c55b",
   "metadata": {},
   "outputs": [],
   "source": []
  }
 ],
 "metadata": {
  "kernelspec": {
   "display_name": "Python 3",
   "language": "python",
   "name": "python3"
  },
  "language_info": {
   "codemirror_mode": {
    "name": "ipython",
    "version": 3
   },
   "file_extension": ".py",
   "mimetype": "text/x-python",
   "name": "python",
   "nbconvert_exporter": "python",
   "pygments_lexer": "ipython3",
   "version": "3.8.8"
  }
 },
 "nbformat": 4,
 "nbformat_minor": 5
}
