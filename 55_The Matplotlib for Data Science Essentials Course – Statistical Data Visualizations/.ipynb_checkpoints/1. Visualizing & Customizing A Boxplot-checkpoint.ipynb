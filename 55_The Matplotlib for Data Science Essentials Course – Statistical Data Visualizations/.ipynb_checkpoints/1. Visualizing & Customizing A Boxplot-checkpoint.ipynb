{
 "cells": [
  {
   "cell_type": "code",
   "execution_count": 1,
   "id": "a88d1054",
   "metadata": {},
   "outputs": [
    {
     "data": {
      "text/plain": [
       "True"
      ]
     },
     "execution_count": 1,
     "metadata": {},
     "output_type": "execute_result"
    }
   ],
   "source": [
    "import numpy as np\n",
    "import matplotlib\n",
    "import matplotlib.pyplot as plt\n",
    "\n",
    "matplotlib.interactive(True)\n",
    "plt.ion()\n",
    "matplotlib.is_interactive()"
   ]
  },
  {
   "cell_type": "code",
   "execution_count": 4,
   "id": "83a54106",
   "metadata": {},
   "outputs": [
    {
     "data": {
      "text/plain": [
       "array([ 2,  2,  3,  3,  3,  4,  5,  5,  6,  6,  9, 11, 13, 13, 15, 16, 17,\n",
       "       18, 18, 19])"
      ]
     },
     "execution_count": 4,
     "metadata": {},
     "output_type": "execute_result"
    }
   ],
   "source": [
    "x = np.random.randint(low=0, high=20, size=20)\n",
    "x.sort()\n",
    "x"
   ]
  },
  {
   "cell_type": "code",
   "execution_count": 5,
   "id": "695b8ad9",
   "metadata": {},
   "outputs": [
    {
     "data": {
      "text/plain": [
       "{'whiskers': [<matplotlib.lines.Line2D at 0x18be4b16ee0>,\n",
       "  <matplotlib.lines.Line2D at 0x18be4b23280>],\n",
       " 'caps': [<matplotlib.lines.Line2D at 0x18be4b235e0>,\n",
       "  <matplotlib.lines.Line2D at 0x18be4b23940>],\n",
       " 'boxes': [<matplotlib.lines.Line2D at 0x18be4b16b80>],\n",
       " 'medians': [<matplotlib.lines.Line2D at 0x18be4b23ca0>],\n",
       " 'fliers': [<matplotlib.lines.Line2D at 0x18be4b32040>],\n",
       " 'means': []}"
      ]
     },
     "execution_count": 5,
     "metadata": {},
     "output_type": "execute_result"
    },
    {
     "data": {
      "image/png": "[encoded data removed]",
      "text/plain": [
       "<Figure size 432x288 with 1 Axes>"
      ]
     },
     "metadata": {
      "needs_background": "light"
     },
     "output_type": "display_data"
    }
   ],
   "source": [
    "plt.boxplot(x)"
   ]
  },
  {
   "cell_type": "code",
   "execution_count": 6,
   "id": "7744f777",
   "metadata": {},
   "outputs": [
    {
     "data": {
      "text/plain": [
       "{'whiskers': [<matplotlib.lines.Line2D at 0x18be4b7bfd0>,\n",
       "  <matplotlib.lines.Line2D at 0x18be4b89370>],\n",
       " 'caps': [<matplotlib.lines.Line2D at 0x18be4b89700>,\n",
       "  <matplotlib.lines.Line2D at 0x18be4b89a60>],\n",
       " 'boxes': [<matplotlib.lines.Line2D at 0x18be4b7bc70>],\n",
       " 'medians': [<matplotlib.lines.Line2D at 0x18be4b89dc0>],\n",
       " 'fliers': [<matplotlib.lines.Line2D at 0x18be4b97160>],\n",
       " 'means': []}"
      ]
     },
     "execution_count": 6,
     "metadata": {},
     "output_type": "execute_result"
    },
    {
     "data": {
      "image/png": "[encoded data removed]",
      "text/plain": [
       "<Figure size 432x288 with 1 Axes>"
      ]
     },
     "metadata": {
      "needs_background": "light"
     },
     "output_type": "display_data"
    }
   ],
   "source": [
    "x = np.append(x, 22)\n",
    "\n",
    "plt.boxplot(x)"
   ]
  },
  {
   "cell_type": "code",
   "execution_count": 8,
   "id": "cc7b38c5",
   "metadata": {},
   "outputs": [
    {
     "data": {
      "text/plain": [
       "{'whiskers': [<matplotlib.lines.Line2D at 0x18be4c4baf0>,\n",
       "  <matplotlib.lines.Line2D at 0x18be4c4be50>],\n",
       " 'caps': [<matplotlib.lines.Line2D at 0x18be4c5a1f0>,\n",
       "  <matplotlib.lines.Line2D at 0x18be4c5a550>],\n",
       " 'boxes': [<matplotlib.lines.Line2D at 0x18be4c4b760>],\n",
       " 'medians': [<matplotlib.lines.Line2D at 0x18be4c5a8b0>],\n",
       " 'fliers': [<matplotlib.lines.Line2D at 0x18be4c5ac10>],\n",
       " 'means': []}"
      ]
     },
     "execution_count": 8,
     "metadata": {},
     "output_type": "execute_result"
    },
    {
     "data": {
      "image/png": "[encoded data removed]",
      "text/plain": [
       "<Figure size 432x288 with 1 Axes>"
      ]
     },
     "metadata": {
      "needs_background": "light"
     },
     "output_type": "display_data"
    }
   ],
   "source": [
    "x = np.append(x, 40)\n",
    "x = np.append(x, 45)\n",
    "\n",
    "plt.boxplot(x)"
   ]
  },
  {
   "cell_type": "code",
   "execution_count": 9,
   "id": "82fd6919",
   "metadata": {},
   "outputs": [
    {
     "data": {
      "text/plain": [
       "{'whiskers': [<matplotlib.lines.Line2D at 0x18be4caa820>,\n",
       "  <matplotlib.lines.Line2D at 0x18be4caab80>],\n",
       " 'caps': [<matplotlib.lines.Line2D at 0x18be4caaee0>,\n",
       "  <matplotlib.lines.Line2D at 0x18be4cb6280>],\n",
       " 'boxes': [<matplotlib.lines.Line2D at 0x18be4caa4c0>],\n",
       " 'medians': [<matplotlib.lines.Line2D at 0x18be4cb65e0>],\n",
       " 'fliers': [<matplotlib.lines.Line2D at 0x18be4cb6940>],\n",
       " 'means': []}"
      ]
     },
     "execution_count": 9,
     "metadata": {},
     "output_type": "execute_result"
    },
    {
     "data": {
      "image/png": "[encoded data removed]",
      "text/plain": [
       "<Figure size 432x288 with 1 Axes>"
      ]
     },
     "metadata": {
      "needs_background": "light"
     },
     "output_type": "display_data"
    }
   ],
   "source": [
    "plt.boxplot(x, vert=False)"
   ]
  },
  {
   "cell_type": "code",
   "execution_count": 10,
   "id": "969b32f3",
   "metadata": {},
   "outputs": [
    {
     "data": {
      "text/plain": [
       "{'whiskers': [<matplotlib.lines.Line2D at 0x18be4d05760>,\n",
       "  <matplotlib.lines.Line2D at 0x18be4d05ac0>],\n",
       " 'caps': [<matplotlib.lines.Line2D at 0x18be4d05e20>,\n",
       "  <matplotlib.lines.Line2D at 0x18be4d111c0>],\n",
       " 'boxes': [<matplotlib.lines.Line2D at 0x18be4d05460>],\n",
       " 'medians': [<matplotlib.lines.Line2D at 0x18be4d11520>],\n",
       " 'fliers': [<matplotlib.lines.Line2D at 0x18be4d11880>],\n",
       " 'means': []}"
      ]
     },
     "execution_count": 10,
     "metadata": {},
     "output_type": "execute_result"
    },
    {
     "data": {
      "image/png": "[encoded data removed]",
      "text/plain": [
       "<Figure size 432x288 with 1 Axes>"
      ]
     },
     "metadata": {
      "needs_background": "light"
     },
     "output_type": "display_data"
    }
   ],
   "source": [
    "plt.boxplot(x, vert=False, notch=True)"
   ]
  },
  {
   "cell_type": "code",
   "execution_count": 11,
   "id": "3cdaa915",
   "metadata": {},
   "outputs": [
    {
     "data": {
      "text/plain": [
       "{'whiskers': [<matplotlib.lines.Line2D at 0x18be4d60700>,\n",
       "  <matplotlib.lines.Line2D at 0x18be4d60a60>],\n",
       " 'caps': [<matplotlib.lines.Line2D at 0x18be4d60dc0>,\n",
       "  <matplotlib.lines.Line2D at 0x18be4d6c190>],\n",
       " 'boxes': [<matplotlib.lines.Line2D at 0x18be4d603a0>],\n",
       " 'medians': [<matplotlib.lines.Line2D at 0x18be4d6c4f0>],\n",
       " 'fliers': [],\n",
       " 'means': []}"
      ]
     },
     "execution_count": 11,
     "metadata": {},
     "output_type": "execute_result"
    },
    {
     "data": {
      "image/png": "[encoded data removed]",
      "text/plain": [
       "<Figure size 432x288 with 1 Axes>"
      ]
     },
     "metadata": {
      "needs_background": "light"
     },
     "output_type": "display_data"
    }
   ],
   "source": [
    "plt.boxplot(x, vert=False, notch=True, showfliers=False)"
   ]
  },
  {
   "cell_type": "code",
   "execution_count": 12,
   "id": "2a1d332f",
   "metadata": {},
   "outputs": [
    {
     "data": {
      "text/plain": [
       "{'whiskers': [<matplotlib.lines.Line2D at 0x18be4db8ac0>,\n",
       "  <matplotlib.lines.Line2D at 0x18be4db8e20>],\n",
       " 'caps': [<matplotlib.lines.Line2D at 0x18be4dc71c0>,\n",
       "  <matplotlib.lines.Line2D at 0x18be4dc7520>],\n",
       " 'boxes': [<matplotlib.patches.PathPatch at 0x18be4db87c0>],\n",
       " 'medians': [<matplotlib.lines.Line2D at 0x18be4dc7880>],\n",
       " 'fliers': [<matplotlib.lines.Line2D at 0x18be4dc7be0>],\n",
       " 'means': []}"
      ]
     },
     "execution_count": 12,
     "metadata": {},
     "output_type": "execute_result"
    },
    {
     "data": {
      "image/png": "[encoded data removed]",
      "text/plain": [
       "<Figure size 432x288 with 1 Axes>"
      ]
     },
     "metadata": {
      "needs_background": "light"
     },
     "output_type": "display_data"
    }
   ],
   "source": [
    "bp = plt.boxplot(x, patch_artist=True)\n",
    "bp"
   ]
  },
  {
   "cell_type": "code",
   "execution_count": 13,
   "id": "58aa3ee6",
   "metadata": {},
   "outputs": [
    {
     "name": "stdout",
     "output_type": "stream",
     "text": [
      "Number of boxes:  1\n",
      "Number of whiskers:  2\n",
      "Number of caps:  2\n",
      "Number of medians:  1\n",
      "Number of fliers:  1\n"
     ]
    }
   ],
   "source": [
    "print('Number of boxes: ', len(bp['boxes']))\n",
    "print('Number of whiskers: ', len(bp['whiskers']))\n",
    "print('Number of caps: ', len(bp['caps']))\n",
    "print('Number of medians: ', len(bp['medians']))\n",
    "print('Number of fliers: ', len(bp['fliers']))"
   ]
  },
  {
   "cell_type": "code",
   "execution_count": 16,
   "id": "3b37a1b8",
   "metadata": {},
   "outputs": [
    {
     "data": {
      "text/plain": [
       "[None, None, None]"
      ]
     },
     "execution_count": 16,
     "metadata": {},
     "output_type": "execute_result"
    },
    {
     "data": {
      "image/png": "[encoded data removed]",
      "text/plain": [
       "<Figure size 432x288 with 1 Axes>"
      ]
     },
     "metadata": {
      "needs_background": "light"
     },
     "output_type": "display_data"
    }
   ],
   "source": [
    "bp = plt.boxplot(x, patch_artist=True)\n",
    "\n",
    "bp[\"boxes\"][0].set(facecolor=\"g\", edgecolor=\"yellow\", hatch=\".\")"
   ]
  },
  {
   "cell_type": "code",
   "execution_count": 18,
   "id": "2684e9be",
   "metadata": {},
   "outputs": [
    {
     "data": {
      "text/plain": [
       "[None, None]"
      ]
     },
     "execution_count": 18,
     "metadata": {},
     "output_type": "execute_result"
    },
    {
     "data": {
      "image/png": "[encoded data removed]",
      "text/plain": [
       "<Figure size 432x288 with 1 Axes>"
      ]
     },
     "metadata": {
      "needs_background": "light"
     },
     "output_type": "display_data"
    }
   ],
   "source": [
    "bp = plt.boxplot(x, patch_artist=True)\n",
    "\n",
    "bp[\"boxes\"][0].set(facecolor=\"g\", edgecolor=\"yellow\", hatch=\".\")\n",
    "\n",
    "bp[\"whiskers\"][0].set(color=\"r\", linewidth=1.5)\n",
    "bp[\"whiskers\"][1].set(color=\"purple\", linewidth=2)"
   ]
  },
  {
   "cell_type": "code",
   "execution_count": 19,
   "id": "3c31779f",
   "metadata": {},
   "outputs": [
    {
     "data": {
      "text/plain": [
       "[None, None]"
      ]
     },
     "execution_count": 19,
     "metadata": {},
     "output_type": "execute_result"
    },
    {
     "data": {
      "image/png": "[encoded data removed]",
      "text/plain": [
       "<Figure size 432x288 with 1 Axes>"
      ]
     },
     "metadata": {
      "needs_background": "light"
     },
     "output_type": "display_data"
    }
   ],
   "source": [
    "bp = plt.boxplot(x, patch_artist=True)\n",
    "\n",
    "bp[\"boxes\"][0].set(facecolor=\"g\", edgecolor=\"yellow\", hatch=\".\")\n",
    "\n",
    "bp[\"whiskers\"][0].set(color=\"r\", linewidth=1.5)\n",
    "bp[\"whiskers\"][1].set(color=\"purple\", linewidth=2)\n",
    "\n",
    "bp[\"caps\"][0].set(color=\"y\", linewidth=2.5)\n",
    "bp[\"caps\"][1].set(color=\"g\", linewidth=2)"
   ]
  },
  {
   "cell_type": "code",
   "execution_count": 23,
   "id": "8b7ec9ad",
   "metadata": {},
   "outputs": [
    {
     "data": {
      "text/plain": [
       "[None, None]"
      ]
     },
     "execution_count": 23,
     "metadata": {},
     "output_type": "execute_result"
    },
    {
     "data": {
      "image/png": "[encoded data removed]",
      "text/plain": [
       "<Figure size 432x288 with 1 Axes>"
      ]
     },
     "metadata": {
      "needs_background": "light"
     },
     "output_type": "display_data"
    }
   ],
   "source": [
    "bp = plt.boxplot(x, patch_artist=True)\n",
    "\n",
    "bp[\"boxes\"][0].set(facecolor=\"g\", edgecolor=\"yellow\", hatch=\".\")\n",
    "\n",
    "bp[\"whiskers\"][0].set(color=\"r\", linewidth=1.5)\n",
    "bp[\"whiskers\"][1].set(color=\"purple\", linewidth=2)\n",
    "\n",
    "bp[\"caps\"][0].set(color=\"y\", linewidth=2.5)\n",
    "bp[\"caps\"][1].set(color=\"g\", linewidth=2)\n",
    "\n",
    "bp[\"fliers\"][0].set(marker=\"D\", markerfacecolor=\"y\")"
   ]
  },
  {
   "cell_type": "code",
   "execution_count": 24,
   "id": "cf5bd6fd",
   "metadata": {},
   "outputs": [
    {
     "data": {
      "text/plain": [
       "[None, None]"
      ]
     },
     "execution_count": 24,
     "metadata": {},
     "output_type": "execute_result"
    },
    {
     "data": {
      "image/png": "[encoded data removed]",
      "text/plain": [
       "<Figure size 432x288 with 1 Axes>"
      ]
     },
     "metadata": {
      "needs_background": "light"
     },
     "output_type": "display_data"
    }
   ],
   "source": [
    "bp = plt.boxplot(x, patch_artist=True)\n",
    "\n",
    "bp[\"boxes\"][0].set(facecolor=\"g\", edgecolor=\"yellow\", hatch=\".\")\n",
    "\n",
    "bp[\"whiskers\"][0].set(color=\"r\", linewidth=1.5)\n",
    "bp[\"whiskers\"][1].set(color=\"purple\", linewidth=2)\n",
    "\n",
    "bp[\"caps\"][0].set(color=\"y\", linewidth=2.5)\n",
    "bp[\"caps\"][1].set(color=\"g\", linewidth=2)\n",
    "\n",
    "bp[\"fliers\"][0].set(marker=\"D\", markerfacecolor=\"y\")\n",
    "\n",
    "bp[\"medians\"][0].set(linestyle=\"--\", linewidth=2.5)"
   ]
  },
  {
   "cell_type": "code",
   "execution_count": null,
   "id": "1e4f8cac",
   "metadata": {},
   "outputs": [],
   "source": []
  }
 ],
 "metadata": {
  "kernelspec": {
   "display_name": "Python 3",
   "language": "python",
   "name": "python3"
  },
  "language_info": {
   "codemirror_mode": {
    "name": "ipython",
    "version": 3
   },
   "file_extension": ".py",
   "mimetype": "text/x-python",
   "name": "python",
   "nbconvert_exporter": "python",
   "pygments_lexer": "ipython3",
   "version": "3.8.8"
  }
 },
 "nbformat": 4,
 "nbformat_minor": 5
}
